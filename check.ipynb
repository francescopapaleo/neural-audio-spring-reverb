{
 "cells": [
  {
   "cell_type": "code",
   "execution_count": 23,
   "metadata": {},
   "outputs": [],
   "source": [
    "import essentia.standard as ess\n",
    "import numpy as np\n",
    "import torch\n",
    "import torchaudio\n",
    "from pathlib import Path\n",
    "import io\n",
    "import os\n",
    "import tarfile\n",
    "import tempfile"
   ]
  },
  {
   "cell_type": "code",
   "execution_count": 34,
   "metadata": {},
   "outputs": [],
   "source": [
    "INPUT_WAV = ''\n",
    "PROCESSED_WAV = '_16kHz.wav'"
   ]
  },
  {
   "cell_type": "code",
   "execution_count": 35,
   "metadata": {},
   "outputs": [
    {
     "name": "stderr",
     "output_type": "stream",
     "text": [
      "[wav @ 0x7fcc8cac7400] Using AVStream.codec.time_base as a timebase hint to the muxer is deprecated. Set AVStream.time_base instead.\n"
     ]
    }
   ],
   "source": [
    "loader = ess.MonoLoader(filename=INPUT_WAV)\n",
    "audio = loader()\n",
    "\n",
    "# Set target sample rate\n",
    "target_sample_rate = 16000  # For example\n",
    "\n",
    "# Instantiate resampling algorithm\n",
    "resample = ess.Resample(inputSampleRate=44100, outputSampleRate=target_sample_rate, quality=3)\n",
    "\n",
    "# Apply resampling\n",
    "resampled_audio = resample(audio)\n",
    "\n",
    "# Optionally, you can write the resampled audio back to a wav file\n",
    "ess.MonoWriter(filename=PROCESSED_WAV, sampleRate=target_sample_rate)(resampled_audio)"
   ]
  },
  {
   "cell_type": "code",
   "execution_count": null,
   "metadata": {},
   "outputs": [],
   "source": []
  }
 ],
 "metadata": {
  "kernelspec": {
   "display_name": "Python 3",
   "language": "python",
   "name": "python3"
  },
  "language_info": {
   "codemirror_mode": {
    "name": "ipython",
    "version": 3
   },
   "file_extension": ".py",
   "mimetype": "text/x-python",
   "name": "python",
   "nbconvert_exporter": "python",
   "pygments_lexer": "ipython3",
   "version": "3.10.12"
  },
  "orig_nbformat": 4
 },
 "nbformat": 4,
 "nbformat_minor": 2
}
