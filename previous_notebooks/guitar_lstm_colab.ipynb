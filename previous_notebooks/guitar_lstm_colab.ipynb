{
  "cells": [
    {
      "cell_type": "markdown",
      "metadata": {
        "id": "view-in-github",
        "colab_type": "text"
      },
      "source": [
        "<a href=\"https://colab.research.google.com/github/francescopapaleo/spring-reverb/blob/main/guitar_lstm_colab.ipynb\" target=\"_parent\"><img src=\"https://colab.research.google.com/assets/colab-badge.svg\" alt=\"Open In Colab\"/></a>"
      ]
    },
    {
      "cell_type": "markdown",
      "source": [
        "# LSTM"
      ],
      "metadata": {
        "id": "O3lGduSHXHE1"
      }
    },
    {
      "cell_type": "code",
      "source": [
        "from google.colab import drive\n",
        "drive.mount('/gdrive')\n",
        "%cd /gdrive"
      ],
      "metadata": {
        "colab": {
          "base_uri": "https://localhost:8080/"
        },
        "id": "b-IoypK1v1AO",
        "outputId": "651e6ebb-1997-4b00-9b58-28549ee7227b"
      },
      "execution_count": null,
      "outputs": [
        {
          "output_type": "stream",
          "name": "stdout",
          "text": [
            "Mounted at /gdrive\n",
            "/gdrive\n"
          ]
        }
      ]
    },
    {
      "cell_type": "code",
      "execution_count": null,
      "metadata": {
        "id": "RF2uyPfxgi8H"
      },
      "outputs": [],
      "source": [
        "# TO USE: \n",
        "#    1. Upload your input and output wav files to the current directory in Colab\n",
        "#    2. Edit the USER INPUTS section to point to your wav files, and choose a\n",
        "#         model name, and number of epochs for training. \n",
        "#    3. Run each section of code. The trained models and output wav files will be \n",
        "#         added to the \"models\" directory.\n",
        "#\n",
        "#     Note: Tested on CPU and GPU runtimes.\n",
        "#     Note: Uses MSE for loss calculation instead of Error to Signal with Pre-emphasis filter\n",
        "\n",
        "import tensorflow as tf\n",
        "from tensorflow.keras import Sequential\n",
        "from tensorflow.keras.layers import LSTM, Conv1D, Dense\n",
        "from tensorflow.keras.optimizers import Adam\n",
        "from tensorflow.keras.backend import clear_session\n",
        "from tensorflow.keras.activations import tanh, elu, relu\n",
        "from tensorflow.keras.models import load_model\n",
        "import tensorflow.keras.backend as K\n",
        "from tensorflow.keras.utils import Sequence\n",
        "\n",
        "import os\n",
        "from scipy import signal\n",
        "from scipy.io import wavfile\n",
        "import numpy as np\n",
        "import matplotlib.pyplot as plt\n",
        "import math\n",
        "import h5py\n",
        "\n",
        "import IPython.display as ipd"
      ]
    },
    {
      "cell_type": "code",
      "source": [
        "CONVERTED_DIR = '/gdrive/MyDrive/datasets/plate-spring/converted/'\n",
        "# Define file paths\n",
        "input_file_path = os.path.join(CONVERTED_DIR, 'input.wav')\n",
        "target_file_path = os.path.join(CONVERTED_DIR, 'target.wav')"
      ],
      "metadata": {
        "id": "-uMwmEk9jQsV"
      },
      "execution_count": null,
      "outputs": []
    },
    {
      "cell_type": "code",
      "execution_count": null,
      "metadata": {
        "id": "U22mDBe4jaf2",
        "colab": {
          "base_uri": "https://localhost:8080/"
        },
        "outputId": "03d77747-827a-45f8-8a1d-a57b45eb36e1"
      },
      "outputs": [
        {
          "output_type": "stream",
          "name": "stdout",
          "text": [
            "A model with the same name already exists. Please choose a new name.\n"
          ]
        }
      ],
      "source": [
        "# EDIT THIS SECTION FOR USER INPUTS\n",
        "#\n",
        "name = 'test'\n",
        "in_file = input_file_path\n",
        "out_file = target_file_path\n",
        "epochs = 10\n",
        "\n",
        "train_mode = 1     # 0 = speed training, \n",
        "                   # 1 = accuracy training \n",
        "                   # 2 = extended training\n",
        "\n",
        "input_size = 150 \n",
        "\n",
        "if not os.path.exists('/content/models/'+ name):\n",
        "    os.makedirs('/content/models/'+ name)\n",
        "else:\n",
        "    print(\"A model with the same name already exists. Please choose a new name.\")\n",
        "    exit"
      ]
    },
    {
      "cell_type": "code",
      "execution_count": null,
      "metadata": {
        "id": "ENiXm25p3V7s"
      },
      "outputs": [],
      "source": [
        "class WindowArray(Sequence):\n",
        "        \n",
        "    def __init__(self, x, y, window_len, batch_size=32):\n",
        "        self.x = x\n",
        "        self.y = y[window_len-1:] \n",
        "        self.window_len = window_len\n",
        "        self.batch_size = batch_size\n",
        "        \n",
        "    def __len__(self):\n",
        "        return (len(self.x) - self.window_len +1) // self.batch_size\n",
        "    \n",
        "    def __getitem__(self, index):\n",
        "        x_out = np.stack([self.x[idx: idx+self.window_len] for idx in range(index*self.batch_size, (index+1)*self.batch_size)])\n",
        "        y_out = self.y[index*self.batch_size:(index+1)*self.batch_size]\n",
        "        return x_out, y_out"
      ]
    },
    {
      "cell_type": "code",
      "execution_count": null,
      "metadata": {
        "id": "WqI-cGt1jaG2",
        "colab": {
          "base_uri": "https://localhost:8080/"
        },
        "outputId": "691567ad-ded0-4adf-a5e7-4c335247c866"
      },
      "outputs": [
        {
          "output_type": "stream",
          "name": "stdout",
          "text": [
            "Model: \"sequential\"\n",
            "_________________________________________________________________\n",
            " Layer (type)                Output Shape              Param #   \n",
            "=================================================================\n",
            " conv1d (Conv1D)             (None, 38, 36)            468       \n",
            "                                                                 \n",
            " conv1d_1 (Conv1D)           (None, 10, 36)            15588     \n",
            "                                                                 \n",
            " lstm (LSTM)                 (None, 64)                25856     \n",
            "                                                                 \n",
            " dense (Dense)               (None, 1)                 65        \n",
            "                                                                 \n",
            "=================================================================\n",
            "Total params: 41,977\n",
            "Trainable params: 41,977\n",
            "Non-trainable params: 0\n",
            "_________________________________________________________________\n",
            "Epoch 1/10\n",
            "6/6 [==============================] - 8s 602ms/step - loss: 0.0394 - error_to_signal: 83.1877 - val_loss: 0.0030 - val_error_to_signal: 1.6639\n",
            "Epoch 2/10\n",
            "6/6 [==============================] - 3s 482ms/step - loss: 0.0233 - error_to_signal: 51.5507 - val_loss: 0.0022 - val_error_to_signal: 1.2504\n",
            "Epoch 3/10\n",
            "6/6 [==============================] - 4s 765ms/step - loss: 0.0222 - error_to_signal: 714.2349 - val_loss: 0.0032 - val_error_to_signal: 1.7819\n",
            "Epoch 4/10\n",
            "6/6 [==============================] - 3s 492ms/step - loss: 0.0223 - error_to_signal: 87.7914 - val_loss: 0.0018 - val_error_to_signal: 0.9803\n",
            "Epoch 5/10\n",
            "6/6 [==============================] - 3s 461ms/step - loss: 0.0227 - error_to_signal: 99.7074 - val_loss: 0.0031 - val_error_to_signal: 1.7361\n",
            "Epoch 6/10\n",
            "6/6 [==============================] - 3s 464ms/step - loss: 0.0287 - error_to_signal: 11.2638 - val_loss: 0.0021 - val_error_to_signal: 1.1816\n",
            "Epoch 7/10\n",
            "6/6 [==============================] - 4s 655ms/step - loss: 0.0207 - error_to_signal: 362.2063 - val_loss: 0.0020 - val_error_to_signal: 1.1289\n",
            "Epoch 8/10\n",
            "6/6 [==============================] - 3s 459ms/step - loss: 0.0177 - error_to_signal: 192.0199 - val_loss: 0.0022 - val_error_to_signal: 1.2317\n",
            "Epoch 9/10\n",
            "6/6 [==============================] - 3s 461ms/step - loss: 0.0184 - error_to_signal: 273.3138 - val_loss: 0.0021 - val_error_to_signal: 1.1569\n",
            "Epoch 10/10\n",
            "6/6 [==============================] - 5s 818ms/step - loss: 0.0171 - error_to_signal: 1008.3738 - val_loss: 0.0022 - val_error_to_signal: 1.2551\n",
            "Running prediction..\n",
            "1/1 [==============================] - 1s 593ms/step\n"
          ]
        }
      ],
      "source": [
        "def pre_emphasis_filter(x, coeff=0.95):\n",
        "    return tf.concat([x, x - coeff * x], 1)\n",
        "    \n",
        "def error_to_signal(y_true, y_pred): \n",
        "    \"\"\"\n",
        "    Error to signal ratio with pre-emphasis filter:\n",
        "    \"\"\"\n",
        "    y_true, y_pred = pre_emphasis_filter(y_true), pre_emphasis_filter(y_pred)\n",
        "    return K.sum(tf.pow(y_true - y_pred, 2), axis=0) / (K.sum(tf.pow(y_true, 2), axis=0) + 1e-10)\n",
        "    \n",
        "def save_wav(name, data):\n",
        "    wavfile.write(name, 44100, data.flatten().astype(np.float32))\n",
        "\n",
        "def normalize(data):\n",
        "    data_max = max(data)\n",
        "    data_min = min(data)\n",
        "    data_norm = max(data_max,abs(data_min))\n",
        "    return data / data_norm\n",
        "\n",
        "\n",
        "'''This is a similar Tensorflow/Keras implementation of the LSTM model from the paper:\n",
        "    \"Real-Time Guitar Amplifier Emulation with Deep Learning\"\n",
        "    https://www.mdpi.com/2076-3417/10/3/766/htm\n",
        "\n",
        "    Uses a stack of two 1-D Convolutional layers, followed by LSTM, followed by \n",
        "    a Dense (fully connected) layer. Three preset training modes are available, \n",
        "    with further customization by editing the code. A Sequential tf.keras model \n",
        "    is implemented here.\n",
        "\n",
        "    Note: RAM may be a limiting factor for the parameter \"input_size\". The wav data\n",
        "      is preprocessed and stored in RAM, which improves training speed but quickly runs out\n",
        "      if using a large number for \"input_size\".  Reduce this if you are experiencing\n",
        "      RAM issues. \n",
        "    \n",
        "    --training_mode=0   Speed training (default)\n",
        "    --training_mode=1   Accuracy training\n",
        "    --training_mode=2   Extended training (set max_epochs as desired, for example 50+)\n",
        "'''\n",
        "\n",
        "batch_size = 4096 \n",
        "test_size = 0.2\n",
        "\n",
        "if train_mode == 0:         # Speed Training\n",
        "    learning_rate = 0.01 \n",
        "    conv1d_strides = 12    \n",
        "    conv1d_filters = 16\n",
        "    hidden_units = 36\n",
        "elif train_mode == 1:       # Accuracy Training (~10x longer than Speed Training)\n",
        "    learning_rate = 0.01 \n",
        "    conv1d_strides = 4\n",
        "    conv1d_filters = 36\n",
        "    hidden_units= 64\n",
        "else:                       # Extended Training (~60x longer than Accuracy Training)\n",
        "    learning_rate = 0.0005 \n",
        "    conv1d_strides = 3\n",
        "    conv1d_filters = 36\n",
        "    hidden_units= 96\n",
        "\n",
        "\n",
        "# Create Sequential Model ###########################################\n",
        "clear_session()\n",
        "model = Sequential()\n",
        "model.add(Conv1D(conv1d_filters, 12,strides=conv1d_strides, activation=None, padding='same',input_shape=(input_size,1)))\n",
        "model.add(Conv1D(conv1d_filters, 12,strides=conv1d_strides, activation=None, padding='same'))\n",
        "model.add(LSTM(hidden_units))\n",
        "model.add(Dense(1, activation=None))\n",
        "model.compile(optimizer=Adam(learning_rate=learning_rate), loss='mse', metrics=[error_to_signal])\n",
        "model.summary()\n",
        "\n",
        "# Load and Preprocess Data ###########################################\n",
        "in_rate, in_data = wavfile.read(in_file)\n",
        "out_rate, out_data = wavfile.read(out_file)\n",
        "\n",
        "X_all = in_data.astype(np.float32).flatten()  \n",
        "X_all = normalize(X_all).reshape(len(X_all),1)   \n",
        "y_all = out_data.astype(np.float32).flatten() \n",
        "y_all = normalize(y_all).reshape(len(y_all),1)\n",
        "\n",
        "train_examples = int(len(X_all)*0.8)\n",
        "train_arr = WindowArray(X_all[:train_examples], y_all[:train_examples], input_size, batch_size=batch_size)\n",
        "val_arr = WindowArray(X_all[train_examples:], y_all[train_examples:], input_size, batch_size=batch_size)\n",
        "\n",
        "# Train Model ###################################################\n",
        "history = model.fit(train_arr, validation_data=val_arr, epochs=epochs, shuffle=True)    \n",
        "model.save('/content/models/'+name+'/'+name+'.h5')\n",
        "\n",
        "# Run Prediction #################################################\n",
        "print(\"Running prediction..\")\n",
        "\n",
        "# Get the last 20% of the wav data to run prediction and plot results\n",
        "y_the_rest, y_last_part = np.split(y_all, [int(len(y_all)*.8)])\n",
        "x_the_rest, x_last_part = np.split(X_all, [int(len(X_all)*.8)])\n",
        "y_test = y_last_part[input_size-1:] \n",
        "test_arr = WindowArray(x_last_part, y_last_part, input_size, batch_size = batch_size)\n",
        "\n",
        "prediction = model.predict(test_arr)\n",
        "\n",
        "save_wav('/content/models/'+name+'/y_pred.wav', prediction)\n",
        "save_wav('/content/models/'+name+'/x_test.wav', x_last_part)\n",
        "save_wav('/content/models/'+name+'/y_test.wav', y_test)\n",
        "\n",
        "# Add additional data to the saved model (like input_size)\n",
        "filename = '/content/models/'+name+'/'+name+'.h5'\n",
        "f = h5py.File(filename, 'a')\n",
        "grp = f.create_group(\"info\")\n",
        "dset = grp.create_dataset(\"input_size\", (1,), dtype='int16')\n",
        "dset[0] = input_size\n",
        "f.close()"
      ]
    },
    {
      "cell_type": "code",
      "source": [
        "# ipd.Audio('/content/models/test/x_test.wav')\n",
        "\n",
        "# ipd.Audio('/content/models/test/y_pred.wav')\n",
        "\n",
        "ipd.Audio('/content/models/test/y_test.wav')"
      ],
      "metadata": {
        "colab": {
          "base_uri": "https://localhost:8080/",
          "height": 75
        },
        "id": "p5J6icMhyfY5",
        "outputId": "3d963caa-99f9-4a69-f7c9-2cae4e41a42c"
      },
      "execution_count": null,
      "outputs": [
        {
          "output_type": "execute_result",
          "data": {
            "text/plain": [
              "<IPython.lib.display.Audio object>"
            ],
            "text/html": [
              "\n",
              "                <audio  controls=\"controls\" >\n",
              "                    <source src=\"data:audio/x-wav;base64,UklGRt5hAABXQVZFZm10IBIAAAADAAEARKwAABCxAgAEACAAAABmYWN0BAAAAGsYAABkYXRhrGEAAPvZ5z1u7/g9hUYDPvZICD6Ybgs+bbcMPjhlDD6IZwo+IQAHPnQ/Aj7IjPg9OsfpPfWX2T35/sc9k8G1PWlCoz0CBZE9cRCAPS0LYT1ClUY9mjswPQhHHz19sBI9NTYKPeISBT39wgI9ZDgBPR7f/zzsyfw8eJj1PMJK6jwgT9g8+Rq+PNcxnDwtC2E8BGfuO0mIA7kQ3Q+8/IqWvFvV67zC3yK96NtQvdIZf72R5pW9z5urvTkIwL0J6tK9uL3jvUeD8r1Jlv690QsEvuVBB75g7Qi+YO0IvlZSB74kPQS+Ht//vQ709L2DXei9yeDavaa/zL0oAb+99weyvV6Zpr2bc5y9NBqUvSuNjb2cq4i9apaFvSupg70aooK97LuBvRdzgL05j329Xuh3vY3qbr3GlWK9vSRSvekTPb0PpSO9plQFvdXBw7yALma8sGhJuxDdDzyaO7A8O5QOPQbXRj1anX895AmbPWTbtD2mv8w9edDhPTmr8z1kOAE+zs4GPmqICj78pgw+hCoNPuUzDD7iBAo+t1sGPih6AT7VZPc9WKbpPQWf2j1J88o95uS6PUcYqz19lJw9anqPPZVNhD3FXXY9oTxoPYN5Xj3UiVc9zStTPWBYUD0+Sk494X1MPXSqST2ZA0Q9nE48PapCMT12GiI9sxAOPdNR6zyqQrE8udlZPEmIgzuwaMm7RT2LvKE86LzC3yK9vSRSvTVSgL3AzJa9df6rvZKlv72OPtG9pYfgvZrC7b17x/e9Z3X+vfMnAb63aQG+UzEAvjVg+70bzPO9wkrqvdA+372vTNO9BtfGvQTEur0vl6+9qC+lvZtznL3NpJW9IOSQvdHvjb3ex4y9GoaMvd7HjL2EKo29hCqNvRqGjL35d4q9e52GvUZZgb2TSHO9WMJfvZ9hSL3Pmyu9rLIJvX5TxrwM/V68iZ/2ugGxLjzlyMQ8tSMaPTShUT3v6oM9jZudPe1etT2ikMo9rzDdPR8X7D1ACfg9pmIAPjIVAz4GXgQ+JD0EPm7TAj4AAAA+QAn4PXzj7T1b8eE9hJXUPQbXxj2n97g9z5urPcyInz2B35Q9OGWMPUy3hT2CF4E9ZEZ8Pbu0eT3ma3g95mt4PW7veD1u73g9Xuh3Pd8NdD24oW09EltjPaJ0VD3vcUE9ro0pPWZLDT2o0tg8d1KOPEeD8ju52Vm701FrvFWv07xZVxi9uhFGvb7/cb3R7429RzShvZ1qsr2zs8G9A4zOvYrz2L3gReC9I2LkvVFI5b24veO9SLvevZjL173lrM69P2bEvaf3uL1KR629Olyive6yl70dtY69AyGHvSh6gb1TP3u9ESN3vTzadb2Zpne99nJ5vaAEfL390H29OY99vVM/e7082nW9a9xsveBFYL0Tk0+9e0A6vd2PIL2w/QG9cZe9vLnZWbzXMRy7hA4XPCK/sDzOwAs9vlw+PRVubz3h9o498cWjPTkktj0Ur8U9n0XSPRam2z0fM+I9ng3mPXJW5z3Zy+U9l6/hPXBD2z0J6tI9RcTIPSXSvD24GrA9aUKjPcDMlj0Jf4s9CpuBPQvFcj2ALmY9N7RdPajSWD3UiVc95JBYPVJkWz1Iu149AlRiPfeqZT2QNWc9gC5mPQJUYj1BXVo9PkpOPekTPT1AuiY9CX8LPYfE1jzex4w8R4PyO7BoSbtOGWO8agHNvI63E71n7kC9W9VrvRdXir2rep2949Guvb5cvr3Rdsu9d73Vva8w3b3xTOG9xpXivS0L4b1EjNy9Wd7VvS5Dzb0QgMO9AJW4vQ6Jrb3gvqK9/7mYvdQekL2cq4i9hUaDvQ3Yfr3Lu3q99nJ5vaqteL0yMXm9Qzh6vbu0eb1e6He9k0hzvR8XbL150GG9Va9TvXj1Qb2T3Su9qWcRvfeq5byAw568xiobvOCirDo0oVE8OOzJPPyKFj1TnEc9iZ92PalnkT1scaU9o8i2PYsrxT3K/NA9udnZPVjC3z1s+OI91pzjPdNt4T2RUd09w4LWPbbGzT1qHcM9Siu3PaG1qj0WH549EwySPeVBhz2gBHw9a9xsPT0SYj1BXVo9w4JWPXe9VT0PSFc9udlZPXNyXT3xTGE9q+VkPQiyZj33qmU9tY5hPWwUWT0dPEw9P4I6PdPmIz0UKAg9E5PPPIukhzxfIOQ7udlZu18gZLywaMm8XKIQvRTLO72r5WS91DqGvcP7mL2Qrqm94rW4vW1Mxb1PUc+9w4LWvasB270mrdy9NIXbvXrs1729JNK9SfPKveKZwr0RnLm9fFywvY1/p70mJp+9djaYvULykr3DF4+9/KaMvQl/i70Jf4u9kgKMvd7HjL1mS429ZkuNvRqGjL3bmIq9x2KHvTiBgr1e6He9CLJmvTShUb1aMji9tSMavY3q7ryh0aC8hA4XvIAu5jq52Vk8WfrLPGMAFT08N0I9a9xsPayyiT0+p5o96kupPQs+tT1kv749UG3FPZKJyT0NNcs9opDKPXF7xz08N8I9jEe7PX+Lsj1E6ag9YuSePbydlD1FPYs9wQSDPaqteD3IqG493fpnPavlZD2r5WQ9kDVnPZeTaz0ldXA9ARx2PRiBez0e3389ZDiBPaD2gD1Jln49ESN3Pf4Iaj0gT1g9s7NBPUC6Jj23WwY9bUzFPDZ8cTy1I5o7hem2u0mIg7yo0ti8cwcWvYKePr0zaWW9PLCEvUUhlb3xxaO9uBqwvbf+ub0rMMG9FK/FvY9ax71gdMa9Ll/Dvfkavr1KK7e9iTSvvV6Zpr1S3Z29zaSVvZUxjr1P5oe9wQSDvVqdf72gBHy9Uz97vSiIfL0N2H69gheBvVZggr2FRoO9Z2eDvRqigr35k4C9f/Z5vZ3xb73GlWK9mxZQvbf+Ob3MiB+9llv/vB50uLxmtlS84KIsu2qWBTxOrps83w30PJcoJD3Rdks9nfFvPW3Fhz0JY5U9g/KgPVTwqT1efbA9vni0PRtFtj2TwbU9Je6yPZcMrj2Nf6c9r6mfPYQOlz2VMY49EPmFPSiIfD0Vbm89RHBmPaWHYD2/N149DP1ePT0SYj3d+mc9USxvPV7odz01UoA9d26EPW3Fhz2O04k925iKPQZQiT0u2IU9Wp1/PXzjbT2HxFY9UIk7PcYqGz0EZ+48stihPAhHHzxbaiS6deI1vIk0r7woegG9ro0pvROTT70LxXK9JC+JvYQOl70cfaK9Rxirvcghsb2+eLS9ZNu0vSXusr0Bsa69YsiovQx2ob2lHJm9mGCQvYukh70N2H69cjpxvbzsZb03tF29qNJYvcOCVr2HxFa9bBRZvSatXL0cBGC9EltjvW8nZb33qmW9XyBkveBFYL252Vm9YFhQvUw+Q727STK9NP4dvR7RBL0kmtC8EN2PvDHrEbxtTEU5CEcfPOc4nTyxQ+k8WVcYPWs5OT2HxFY9rvhwPWdngz2SAow9fbCSPWYvlz0toJk90wKaPR2ZmD1jAJU98v2PPY7TiT3f44I9ESN3PaE8aD1SZFs96NtQPewmST1tTEU9mQNEPUKVRj0dPEw9ZrZUPdA+Xz3TUWs9Xuh3PXQ/gj0UKIg9ogmNPT7DkD3XTZI9T8qRPTuUjj3YaYg90hl/Pd36Zz0dPEw9k90rPcdiBz0rMME8+/VdPPKETTvjWOy7mGCQvE4Z47wtoBm9zmM/vQJUYr35k4C9sxCOveHamL2D8qC9Xpmmvcxsqb1yz6m9UcGnvS2Eo71S3Z29ou2WvYhZj73lQYe90hl/va74cL3no2S9UmRbvaJ0VL0kmlC9T1FPvdfUT7344lG9Va9TvbJ7Vb3Dgla9/0BWvaJ0VL1gWFC9OOxJvbOzQb05JDa9jX8nva/FFb1TMQC9egjOvHMHlrzwqS28GU4gu21MxTsEZ248UIm7PGRG/Dybcxw9lvA3PZsWUD0jYmQ9aJF0PTVSgD13boQ9mXyGPZl8hj1aj4Q927SAPQEcdj3d+mc9IE9YPVOcRz39ZTY9fHgmPdDTFz1WRAw9DcoDPXVN/TzLu/o8llv/POISBT1mSw09WVcYPagvJT0HDzM9Z+5APT5KTj252Vk9xpViPRm5Zz0pwGg9I2JkPcngWj2VuEs9lvA3PUQFHz2w/QE9xLrCPJmmdzwrMME7wkpqu4fEVryn97i8dD8CvfT0Jb3bH0i9kDVnvYIXgb38poy9zaSVvZtznL0ZTqC9stihvaHRoL1S3Z29/7mYvfUskr29uYq9VmCCvaRPdL3no2S9w4JWvYSxSr2zs0G9UIk7vQ5tN7114jW9deI1vUorN71aMji94rU4vR50OL39ZTa9Bw8zvbTrLb0F/Ca95zgdvVyiEL0oegG9c3LdvCK/sLzLu3q8i6QHvFtqJLqJn/Y7oPaAPF1FxDw4gQI9KVUhPXGXPT0PSFc9uKFtPXEQgD2pg4c9wOiMPbY/kD2LiJE9eoGQPSuNjT3YaYg9ztyBPRvMcz09EmI9x81OPYxHOz1iyCg9lBUYPfl3Cj390P08fOPtPOej5Dw9EuI896rlPI3q7jzsyfw8P98GPSDkED21Ixo9S2MjPQtaKz1efTA9u0kyPZo7MD2ujSk9b7wdPWZLDT0Vbu88YZC8PLD9gTxJiAM8bUzFuYQOF7xjAJW8lIDfvBY7FL3Srje99ZdZvSIqeL01Noq9/IqWvd2PoL2dhqi9lwyuveYAsb2MY7G99NivvXX+q718eKa96mefvQySl73DF4+9Xb6Gvf3Qfb3Zr2+9XyBkvQWfWr2RbVO9PkpOvcBvSr2PWke9bUxFvTw3Qr2+XD69L3s5vX+LMr36Uiq9VQwgvRY7FL1qlgW9GbnnvAoiv7yYYJC8deI1vEmIg7vLu3o7bUxFPBUDqDz0X+08pRwZPXtAOj1sFFk9PNp1PW3Fhz0GNJM9QdacPR+spD3dc6o9W06uPdb5rz0RuK89DomtPcxsqT3T5qM9X7WcPYHflD04ZYw9DcqDPdVkdz1lfmg92udbPXBfUT047Ek95chEPcS6Qj1MPkM9flNGPQ01Sz29JFI9udlZPXnQYT0pwGg9fONtPdmvbz2N6m49wkpqPaWHYD29JFI9CiI/PY1/Jz1WRAw9QV3aPOuDlTy1Ixo8SYiDOLUjGrw+p5q8GbnnvKUcGb0l0jy9vzdevWRGfL0nXou93quWvcyIn724Nqa9v5SqveCirL0cYay9NhGqvZpXpr0pVaG9Tq6bveuDlb0Q3Y+9F1eKvfIZhr3BBIO9oPaAvR7ff72WW3+9cRCAvTVSgL3btIC927SAvVMxgL05j3299nJ5vZNIc71b1Wu9PRJivWa2VL2pCkW99wcyvRLwG710PwK90XbLvP/VjrznOB286RO9uvv13TtokXQ8P4K6PBEj9zzQ0xc99wcyPbBoST03tF09QCVuPVM/ez10P4I9APKEPUy3hT2VTYQ9ZDiBPbu0eT3IqG498UxhPZFtUz32z0U94rU4PaTkLD3C3yI9Tq4bPfyKFj3afBQ964MVPaUcGT2Ryh892UQoPX+LMj012T097CZJPZFtUz3a51s98UxhPZreYz0CVGI9Jq1cPUWoUj2ZA0Q95gAxPbUjGj2FVP48TD7DPMEEgzzLu/o7gC5mutcxHLxjAJW8QV3avGZLDb1HGCu9flNGvTe0Xb2u+HC9Wp1/veIShb0UKIi9YO2IvQMhh70rqYO9dU19va74cL3WnGO9O/9VvXSqSb2Cnj69KB01vQGxLr2/lCq92UQovRUDKL1iyCi9v5QqvVcfLL3wqS29PW8uvXktLr2k5Cy9cs8pvePtJL3nOB29jrcTvQMhB70Vbu+8OOzJvG+8nby52Vm8+/Xdu0mIgzihPOg7oTxoPGgmrTxvJ+U8GoYMPePtJD2MRzs9iw9PPRwEYD30X2091WR3PXVNfT3SGX89dU19PdVkdz1AJW49edBhPZFtUz3VwUM9y1AzPYYhIz2OtxM9apYFPb7/8TwM/d48rB3RPCflyDx+U8Y8sGjJPL0k0jwcBOA8rvjwPCh6AT2B+wo9ynUTPbUjGj00/h09RAUfPV+1HD2vxRU9RT0LPSIq+DxFqNI8bHGlPC0LYTza59s7iZ92ulL5E7x3Uo68vSTSvDU2Cr36Uiq9F95HvcaVYr3Lu3q9qYOHvYhZj71jAJW9djaYvaUcmb3uspe9cNiTvXdSjr3lQYe9hVR+vWvcbL0Wplu90XZLvekTPb3mADG9jX8nvaHRIL1ftRy9tSMavaUcGb3h2hi9HZkYvVlXGL1IUBe964MVvbluEr2zEA69FCgIvZZb/7zCSuq8iw/PvGgmrbxJiIO8nYYovCh6gbun9zg7W2okPP/VjjzRdss8SYgDPRlOID0Uyzs9d71VPWvcbD3btIA9rLKJPXqBkD3NpJU9/7mYPS2gmT3h2pg9VSiWPW2pkT3OwIs9HtGEPUM4ej06x2k9fRtaPUnzSj3pEz09boQxPVHBJz0pVSE9I/ccPU6uGz3nOB09KVUhPY1/Jz09by49wac2PTXZPT0hh0Q9Y6NIPcBvSj3sJkk9mQNEPVCJOz09by49I/ccPYukBz1ia9w8stihPG1MRTxHg3I7W2qku18gZLy3/rm8UzEAvXYaIr2zs0G9SLteveZreL0DIYe98v2PvfyKlr0+p5q9m3OcvRLwm73D+5i9NBqUvQ2ujb17nYa9wRJ+vY3qbr150GG9O/9VvS5DTb3KGEe91cFDvcS6Qr2I/EK95chEvQbXRr2waEm9HTxMvQOMTr3X1E+919RPvQOMTr3Rdku99s9Fva1VPb1uhDG9/p0ivZhgEL3wFPW8bUzFvCDkkLwzxjG8y7t6u/v1XTvPmys8EN2PPI9axzzcwvs8N0kWPVcfLD1G4D49x81OPcngWj1OGWM9GblnPWV+aD287GU9pYdgPeSQWD3HzU49mQNEPR50OD3goiw9stghPR2ZGD2pZxE9VkQMPayyCT01Ngo9ZksNPQY0Ez3GKhs9W2okPYk0Lz23/jk9IYdEPS5DTT3eMlQ9XA1YPWwUWT2HxFY9JJpQPX5TRj0ObTc94+0kPe/ODT0IsuY8Vx+sPKjSWDy/lKo7bUxFu4XpNrxOrpu8udnZvKyyCb0frCS9nE48vSSaUL0tC2G99F9tvSzTdL3VZHe9PNp1vRVub70zaWW9MVZZvVn6S72Cnj69M8YxvXx4Jr3nOB29wMwWvX2wEr1cohC9IOQQvX2wEr3rgxW9pRwZvW+8Hb06XCK99PQlvepLKb1XHyy9pOQsvc+bK73ZRCi9stghvVlXGL3OwAu9Iir4vM0r07ydhqi8V4pzvCDkELzgoiy7R4NyO2xxJTxqloU8/WW2POej5DxP5gc9AukaPQtaKz0edDg9PDdCPSflSD2VuEs90XZLPRfeRz2zs0E987w5PRG4Lz2oLyU98eEZPf/VDj3iEgU9MjH5PGvc7DxvJ+U8PRLiPF8g5DxKzuo8iZ/2PMEEAz0ahgw9wMwWPd2PID1yzyk9qkIxPQ5tNz0/gjo9e0A6PcGnNj3F8i49D6UjPY63Ez1TMQA9rB3RPE6umzw8N0I8zsCLO8JKarvpEz28b7ydvFJk27y9uQq99PQlvb5cPr1Vr1O996plvZNIc73syXy9+ZOAvRdzgL3cwnu9R4NyvQiyZr0gT1i9J+VIvWs5Ob1HGCu9+D8evY63E70Jfwu9LtgFvXQ/Ar3btAC9F3MAvey7Ab3RCwS9e50GvayyCb0ahgy9O5QOvdQeEL0Q3Q+9784NvehwCb04gQK9NnzxvCBP2Ly3/rm8/IqWvPv1XbyLpAe8nYYouzShUTtjABU8maZ3PFcfrDy52dk8wQQDPYQOFz0mCik94rU4PakKRT0DjE49onRUPdSJVz2Yy1c97jlVPWBYUD047Ek9s7NBPaf3OD2aOzA9UcEnPd2PID0+pxo9wMwWPSdCFT3rgxU9lBUYPV+1HD3C3yI9RxgrPdxXND3pEz09Mo5FPaa/TD344lE9ZrZUPWa2VD1wX1E9/C1KPUbgPj2aOzA9I/ccPbdbBj0gT9g8gMOePCswQTwoeoE7apaFu21MRbzC36K8pYfgvCuNDb2dhii9Z+5Avf9AVr0pwGi9iZ92vXEQgL04gYK9OIGCvdu0gL1/9nm9JXVwvW8nZb2o0li9pr9Mve9xQb0edDi9Ir8wvc+bK70VAyi9fHgmvbg2Jr1RwSe9+lIqvWgmLb1efTC9VNQzvcGnNr3itTi9L3s5veK1OL3tXjW9EbgvvVHBJ71ftRy9wxcPvf3Q/byo0ti8EbivvDiBgrxscSW8i6SHu4ukBzuLpAc801FrPGxxpTy9JNI8ZEb8PCDkED1lEyE9eS0uPVoyOD0KIj891cFDPW1MRT0hh0Q9ePVBPXGXPT3itTg9f4syPaTkLD1RwSc9D6UjPbLYIT0pVSE9hiEjPUC6Jj0cYSw9GBY0PekTPT2PWkc9cF9RPVJkWz1fIGQ901FrPeq2cD3PBnM9+r1xPbihbT287GU99ZdZPTjsST1KKzc9VQwgPS7YBT1Vr9M8DJKXPGTbNDw9EmI7KHqBu7f+Obz8ipa8WfrLvP3Q/bxjABW9nYYovaf3OL0hh0S9pr9MvWBYUL0Tk0+9lbhLvakKRb1hkDy9Q80yvWLIKL3MiB+9DJIXvfUsEr2zEA69zsALvc7AC70rjQ295SURvfyKFr0j9xy90+YjvYPWKr0zxjG9WjI4vTXZPb2zs0G9mQNEvRCAQ72jrEC9UIk7vQcPM73ZRCi9Pqcavfl3Cr2d8e+8BtfGvMYqm7za51u8y7v6uwRn7rrLu3o7tSMaPBVubzyRyp88TD7DPLWO4Tzcwvs8FCgIPRDdDz1jABU9DJIXPVlXGD2EDhc9YwAVPbluEj3DFw893scMPb25Cj35dwo9zsALPXdSDj1C8hI9pRwZPWUTIT36Uio9ZNs0Pc5jPz2EsUo9ZrZUPXNyXT1vJ2U9wkpqPeNYbD2Xk2s9VHdnPRwEYD1mtlQ99s9FPctQMz00/h09apYFPZjL1zyh0aA8NKFRPAoivztJiIO6y7v6u5A1Z7xscaW8Va/TvHVN/bxcohC9RAUfvfpSKr3mADG9GBY0vVTUM73W+S+9NhEqvf6dIr16ZRq9MesRvfl3Cr2VTQS9Ht//vEM4+rwyMfm83ML7vKD2AL23Wwa9VkQMvcp1E73GKhu9hiEjvUcYK727STK9WjI4vWGQPL2SpT+9GylAvb5cPr23/jm9Bw8zvSYKKb0j9xy9d1IOvVM/+7z/QNa88KmtvEmIg7wzxjG8ZNu0u21MRbn4P547+D8ePKE8aDzafJQ8M8axPMBvyjz79d08a9zsPBEj9zx1Tf08llv/PA3Y/jzsyfw8MjH5PPAU9TxHg/I8vv/xPFeK8zyZpvc8Ht//PGqWBT0ahgw9J0IVPUQFHz2ujSk9oJk0Pc5jPz047Ek9gWZSPfWXWT2DeV494EVgPZSAXz3J4Fo9RahSPcoYRz2W8Dc9qC8lPdQeED2d8e88YZC8PHudhjznOB08p/c4O0mIg7vwqS28NTaKvLf+ubyQNee8AyEHvdDTF72oLyW9xfIuvaCZNL2F6Ta9deI1vW6EMb0LWiu9D6UjvYpsG73KdRO9kgIMvfIZBr0oegG9/dD9vHVN/bwe3/+8hUYDvRQoCL13Ug69YwAVvdcxHL0PpSO9g9YqvW6EMb2F6Ta9BMQ6va1VPb35Gj69nE48vR50OL33BzK96kspvW+8Hb0Q3Q+9UzEAvXNy3byW8Le8mGCQvPKETbyJn/a7W2oku9cxHDuALuY7yAU7PMu7ejwtoJk8u0myPOXIxDxVr9M8+/XdPF8g5DyhPOg8oTzoPAiy5jxvJ+U81pzjPOej5DyALuY801HrPFeK8zyWW/88x2IHPVyiED1Orhs9UcEnPSgdNT08N0I919RPPWJrXD0ZuWc9rvhwPdVkdz0Heno9Qzh6PcVddj3IqG49AlRiPQnqUj0bKUA9+lIqPTHrET0EZ+48/WW2PLu0eTx7nQY84KKsOkPNsrtdRUS82nyUvCswwbw6x+m8LtgFvQY0E70j9xy9hiEjvagvJb1baiS9ZRMhvdcxHL1zBxa9iFkPvWDtCL2FRgO9/dD9vCIq+LzwFPW8iZ/2vFM/+7yg9gC98hkGvZICDL25bhK9pRwZvcyIH70wsyW9RxgrvYk0L70zxjG9Bw8zvUPNMr1efTC9k90rvWxxJb1ftRy99SwSveISBb1r3Oy88oTNvDYRqrxqloW8KzBBvMJK6rtbaiS7iZ/2OrBoyTtbaiQ8+/VdPBQoiDznOJ08AbGuPMgFuzzVwcM8sGjJPNF2yzzRdss8wG/KPLBoyTwn5cg8OOzJPPKEzTzuOdU8lIDfPPRf7TyWW/88NTYKPTdJFj1LYyM9M8YxPRspQD16CE49UmRbPczzZj1hM3A91WR3PQd6ej1/9nk9PNp1PbihbT21jmE9+OJRPUbgPj3qSyk95SURPfRf7TwObbc8F3OAPELyEjxS+RM7zsCLu8+bK7ziEoW8mjuwvHe91bzwFPW8e50GvYhZD72fvhS9/IoWveuDFb19sBK9sxAOvSQvCb0NygO9/dD9vPAU9bwEZ+68W9XrvONY7LwVbu+88BT1vHVN/bwNygO9rLIJvdQeEL38iha9X7UcvTpcIr1Auia9cs8pvQtaK70LWiu9ro0pvfT0Jb3djyC9HZkYvf/VDr2FRgO901HrvOF9zLxHGKu8i6SHvH5TRrxokfS7p/c4u4Au5jrRdss7z5srPPRfbTzKdZM8Vx+sPCswwTw0odE8+/XdPJA15zzjWOw8jeruPCV18Dw2fPE8R4PyPN8N9DyZpvc8hVT+PEmIAz1x9Ak9MesRPYpsGz1AuiY9y1AzPSswQT2LD089rzBdPYaMaj1N4XY927SAPVqPhD0hAIc9i6SHPbdbhj3BBIM9GIF7PWvcbD3J4Fo9Mo5FPXktLj3afBQ9zwbzPLf+uTyg9oA8EN0PPImf9jrXMZy7hek2vM7Ai7wObbe86+7cvGRG/LyB+wq9FjsUvfHhGb0j9xy9b7wdvV+1HL0C6Rq94doYvfyKFr1jABW9FjsUvdp8FL3AzBa9tSMavUQFH70wsyW9aCYtve1eNb2+XD69j1pHvZsWUL0gT1i90D5fvavlZL3tAWm9W9VrvaeabL2Xk2u9ZX5ovU4ZY73a51u9RahSvQbXRr0vezm9+lIqvS2gGb2LpAe9sUPpvDw3wrwtoJm8XyBkvGMAFbxS+ZO7SYiDuUeDcjsEZ+47v5QqPJjLVzzsyXw8ZkuNPC2gmTxLY6M84KKsPGTbtDxxl708j1rHPEWo0jwcBOA8rvjwPP3CAj2zEA49AukaPepLKT3itTg9J+VIPbnZWT2GjGo9B3p6PXduhD3bmIo9pTiPPblukj1w2JM9BjSTPT7DkD1WRIw9EPmFPSiIfD06x2k9KvhUPb5cPj24NiY9ogkNPYAu5jxDzbI8F3OAPAhHHzyssok7iZ92umTbtLu1Ixq84X1MvFeKc7yLpIe8mGCQvFL5k7zafJS8UvmTvKlnkbz/1Y68786NvO/Ojbwg5JC8/IqWvAhHn7xXH6y86RO9vKwd0bwZuee8Ddj+vM7AC72UFRi90+YjvYk0L73itTi9s7NBvWOjSL0+Sk69gWZSvd4yVL2idFS9gWZSvT5KTr1TnEe9Vuc/ve1eNb2ujSm9I/ccvXdSDr390P28+/XdvPkavrz4P5683MJ7vPkaPrxajwS8GU6guw3Y/rpS+RM64KIsO+/OjTun97g7udnZO2iR9DtqlgU8EN0PPNcxHDy/lCo8+Ro+PHe9VTxHg3I8NTaKPIDDnjx14rU8iw/PPNNR6zxajwQ9jrcTPf6dIj2qQjE9vlw+PbBoST29JFI91IlXPX0bWj2o0lg93jJUPVn6Sz2jrEA9Q80yPTpcIj0Q3Q89Iir4PHoIzjw6XKI89F9tPGMAFTzLu3o7UvmTuukTvbsZTiC82udbvOIShbxzB5a8stihvJ2GqLy/lKq8JgqpvGxxpbwIR5+8HZmYvELykrx3Uo68RT2LvL25irzvzo28QvKSvF+1nLwmCqm8lvC3vCflyLxSZNu8BGfuvNu0AL3ocAm95SURvZQVGL2reh297pYhvVtqJL2oLyW9H6wkvbLYIb2reh29SFAXvcMXD71qlgW9V4rzvEFd2ryCnr68kcqfvBdzgLwKIj+8y7v6uwRnbrtbaqQ5i6SHO8u7+jtDzTI8LQthPFqPhDxjAJU8OlyiPM+bqzzLULM8HnS4PNgMvDwKIr88s7PBPPbPxTxJ88o8vSTSPEFd2jxvJ+U8vv/xPKD2AD2ssgk9ynUTPW+8HT3ZRCg9Bw8zPWGQPD0yjkU9HTxMPSSaUD2BZlI96NtQPaa/TD1tTEU9jEc7PbTrLT2Awx49ZksNPd8N9DzRdss8odGgPMJKajwx6xE8wkpqO3e91bqYy9e7lvA3vMu7erzGKpu8y1CzvH5TxrzeMtS8c3LdvLWO4bxOGeO8xpXivBwE4Lz79d28UmTbvLnZ2by52dm8YmvcvLWO4byxQ+m83w30vBdzAL0UKAi9mGAQvaUcGb3uliG9ro0pveYAMb0ObTe9JdI8vWfuQL3VwUO9qQpFvSGHRL08N0K9gp4+veK1OL3mADG9jX8nvdcxHL1Mmw+9sP0Bvfeq5bz2z8W80+ajvKD2gLy3/jm8PRLiu1tqJLt3vdU6hem2O6UcGTwDjE48/dB9PMp1kzzj7aQ8y1CzPJKlvzw47Mk8RajSPMng2jxOGeM801HrPPAU9Twe3/88LtgFPaIJDT2fvhQ9q3odPUC6Jj3mADE9UIk7PX5TRj0kmlA9fRtaPQJUYj0pwGg9a9xsPQRnbj0wHm097QFpPT0SYj3kkFg94X1MPb5cPj09by49q3odPUU9Cz0ldfA8J+XIPClVoTx4mHU8ro0pPAoivzuALuY6SYgDu7+UqrsoegG8W2okvPkaPrwkmlC86+5cvF8gZLyQNWe8sUNpvNNRa7wVbm+8eJh1vB7ff7wUKIi8uW6SvIDDnrwBsa68KzDBvO451bw6x+m8llv/vDU2Cr0WOxS95zgdvWxxJb3goiy9Q80yvUorN723/jm9UIk7vcgFO73itTi9KB01vYk0L72Nfye9gMMevdp8FL1g7Qi9MjH5vPv13bwrMMG8W2qkvHudhrwTk0+8YwAVvGTbtLsQ3Q+7bUxFOne9VTtDzbI7BGfuOxDdDzw6XCI8M8YxPPkaPjywaEk8Va9TPBwEYDz0X2087Ml8PAMhhzypZ5E8b7ydPOCirDzpE708A4zOPD0S4jwBHPY8apYFPRDdDz1pXhk9KVUhPVHBJz2T3Ss9LGgtPeCiLD0mCik9hiEjPQLpGj3lJRE9plQFPa748DzeMtQ8deK1PHMHljzTUWs8nYYoPPKEzTsZTiA71zGcujHrkbsEZ+67+D8evNgMPLxFqFK8HARgvJA1Z7zCSmq8kDVnvE4ZY7zr7ly8h8RWvFWvU7xVr1O8mMtXvBwEYLwVbm+8KHqBvP/VjrznOJ288KmtvJKlv7ysHdG8tY7hvDZ88bxTMQC9e50GvVZEDL2YYBC9ynUTvWMAFb0nQhW9UvkTveUlEb1WRAy98hkGvXVN/bzTUeu8mMvXvCswwbwmCqm8iFmPvLFDabxDzTK8BGfuu8u7ertbaqS5bUxFO21MxTsQ3Q88hek2PJjLVzxHg3I80QuEPN7HjDxC8pI8lBWYPNcxnDwZTqA80+ajPI1/pzxXH6w8M8axPJbwtzwbKcA8sGjJPO451Tw9EuI8nfHvPIVU/jx7nQY9784NPVL5Ez3h2hg9EvAbPec4HT0S8Bs9HZkYPULyEj1FPQs97LsBPfRf7TxVr9M8lvC3PLUjmjxokXQ8VNQzPD0S4jun9zg7zsCLuvg/nruLpAe8t/45vIAuZrziEoW8QvKSvF+1nLzC36K89PSlvPT0pbxbaqS8odGgvF+1nLylHJm8cweWvNp8lLzrg5W8lBWYvIDDnryNf6e8u0myvBspwLwDjM68+/XdvPRf7bxkRvy84hIFvQl/C73lJRG9N0kWvWleGb2KbBu91zEcvcYqG70dmRi92nwUvTuUDr2LpAe9dU39vDrH6bxVr9O8UIm7vClVobziEoW8E5NPvGMAFbzgoqy78oTNug3Y/jrgoqw7nKsIPHXiNTza51s8/dB9PN7HjDyUFZg8KVWhPJ2GqDyJNK887V61PMgFuzwbKcA8flPGPOF9zDxmttQ8g3nePLFD6Tx4mPU87LsBPehwCT0x6xE9PqcaPf6dIj36Uio9Ir8wPTkkNj1rOTk9e0A6PWs5OT114jU9Xn0wPWLIKD0IRx89UvkTPQMhBz02fPE8zSvTPEPNsjwg5JA8+/VdPLUjGjwBsa476RO9OoukB7vgoqy7OIECvHx4JrxdRUS8udlZvJA1Z7z0X228FW5vvNNRa7xvJ2W86+5cvIfEVrwkmlC8E5NPvCSaULyHxFa8PRJivFeKc7ziEoW8uW6SvLLYobwzxrG8PDfCvEWo0rzGleK8vv/xvB7f/7zyGQa9RT0Lvf/VDr2pZxG99SwSvalnEb2IWQ+9RT0LvS7YBb2FVP68fOPtvMng2rz2z8W8AbGuvOuDlbyJn3a8KzBBvM7AC7zgoqy7EN0Pu1tqJDo0oVE7Q82yOwRn7jsg5BA8W2okPEPNMjz5Gj48flNGPOF9TDw0oVE8h8RWPNrnWzxOGWM841hsPMu7ejziEoU8iFmPPE6umzwmCqk8lvC3PBfexzwgT9g8sUPpPCIq+DzBBAM9FCgIPQl/Cz0rjQ09ZksNPb25Cj17nQY9Ht//PJ3x7zzr7tw8j1rHPIk0rzzafJQ8NnxxPKf3ODzLu/o7apaFO2TbNDoZTiC7Ir+wuyh6Abw6XCK8+Ro+vCSaULzr7ly8LQthvAz9XryHxFa84X1MvPkaPrwBsS68OlwivGMAFbzvzg28rLIJvM7AC7xC8hK8+D8evBG4L7xtTEW8+/VdvKqteLy9uYq8LaCZvBUDqLztXrW8KzDBvNF2y7xVr9O8MVbZvGJr3Lxia9y8udnZvN4y1LxZ+su8s7PBvGTbtLzj7aS8QvKSvA3YfrxVr1O8fHgmvONY7LsQ3Y+7bUzFutcxnDqJn3Y7TD7DOyh6ATznOB08M8YxPDw3QjzyhE08ZrZUPJjLVzy52Vk8yeBaPLnZWTy52Vk8yeBaPPv1XTxOGWM801FrPImfdjzBBIM8VkSMPAySlzxLY6M8mjuwPHGXvTywaMk83jLUPGJr3Dw9EuI8XyDkPMaV4jz79d087jnVPCflyDyn97g8fHimPKlnkTxokXQ8PDdCPN7HDDy/lKo7BGfuOm1Mxbq1I5q7Ddj+u/CpLbyHxFa8maZ3vJyriLxC8pK8lBWYvD6nmrwdmZi8UvmTvGZLjbxaj4S8maZ3vF8gZLxFqFK8bUxFvLf+Obxk2zS8ZNs0vLf+ObxdRUS8Va9TvIAuZrzsyXy8RT2LvAySl7zj7aS8qkKxvOkTvbyPWse8E5PPvO451bwgT9i8qNLYvIfE1rw0odG8sGjJvAoiv7y7SbK8wt+ivCDkkLzLu3q8E5NPvClVIbw9EuK7y7t6u4AuZrqLpAc7GU6gO2iR9DsIRx88CiI/PMngWjwVbm88Ht9/PPIZhjyssok8VkSMPGZLjTzvzo08d1KOPP/VjjwQ3Y88MeuRPNp8lDylHJk8kcqfPI1/pzwiv7A8P4K6PG1MxTybFtA8yeDaPOej5DzjWOw8NnzxPGiR9DzfDfQ8nfHvPKE86Dxzct08A4zOPOkTvTydhqg8MeuRPEeDcjz5Gj48nKsIPDpcojvyhM06gC7muhlOoLsoegG8EbgvvIfEVryqrXi8JC+JvMp1k7y1I5q85zidvF+1nLwtoJm82nyUvGZLjbzyGYa8/dB9vDZ8cbyALma8DP1evOvuXLz79V28bydlvBVub7z90H28FCiIvDHrkbznOJ28JgqpvO1etbwrMMG80XbLvO451bxia9y8tY7hvOej5Lzno+S8xpXivPv13bwPSNe88oTNvCswwbxDzbK8KVWhvO/OjbwVbm+8GylAvO/ODbwiv7C7UvkTu4AuZjoN2H47udnZO2MAFTyn9zg8mMtXPDZ8cTzBBIM8zsCLPLlukjyEDpc8PqeaPOc4nTwIR588KVWhPNPmozyNf6c8Vx+sPLtJsjwve7k8PDfCPOF9zDwPSNc8xpXiPARn7jyqrfg827QAPVqPBD0DIQc9FCgIPcdiBz0e0QQ9F3MAPXiY9TyALuY83jLUPBspwDyujak8qWeRPBVubzzYDDw8e50GPFtqpDsEZ+46UvmTuih6gbs0odG7784NvOCiLLxtTEW8h8RWvD0SYryhPGi8kDVnvE4ZY7za51u8RahSvLBoSbw8N0K86RM9vKf3OLy3/jm8+Ro+vI9aR7x3vVW8gC5mvMu7erwkL4m8/IqWvFtqpLy7SbK8GynAvGoBzbyo0ti8PRLivDrH6bwEZ+68rvjwvDZ88bwEZ+68OsfpvMaV4rwxVtm8egjOvJKlv7x5La68PqeavOIShbza51u8z5srvGiR9Lsx65G78oTNutcxnDoEZ247CiK/O+zJ/DulHBk8EbgvPCswQTwDjE48qNJYPBwEYDxvJ2U8sUNpPARnbjxXinM8y7t6PCh6gTwDIYc8/9WOPAySlzyy2KE84KKsPB50uDzlyMQ8JJrQPNrn2zxvJ+U8a9zsPL7/8TxXivM8zwbzPARn7jz3quU8QV3aPOF9zDxQibs8nYaoPMp1kzy7tHk80XZLPLUjGjxVr9M7gC5mO2TbNDpJiAO7MeuRu9rn27vvzg28fHgmvMgFO7yPWke8A4xOvEWoUrwkmlC8wG9KvDw3Qryn9zi8Ir8wvK6NKbxLYyO8OlwivFtqJLy/lCq8VNQzvEw+Q7x3vVW841hsvLD9gbz/1Y68X7WcvL+UqrwedLi8bUzFvCSa0LxBXdq8PRLivJA157w6x+m8OsfpvBm557zWnOO86+7cvFWv07wX3se8p/e4vAX8prxC8pK8u7R5vLBoSbyUFRi80XbLu/KETbtJiIO5W2okO1tqpDvjWOw7YwAVPBG4LzxdRUQ8d71VPD0SYjzCSmo8JXVwPGiRdDyJn3Y8u7R5PP3QfTwoeoE8apaFPEU9izypZ5E8LaCZPEtjozwBsa48yAW7PI9axzxVr9M8lIDfPLFD6Tyu+PA8iZ/2PDIx+TwiKvg83w30PPRf7TxOGeM8h8TWPBfexzz9ZbY8S2OjPP/Vjjw2fHE8flNGPKUcGTy52dk7apaFO3e91TpS+RO6nYYou87Ai7tk27S7d73Vu+NY7LvLu/q7Ddj+u8u7+rtokfS7gC7mu9rn27s0odG7sGjJu49ax7vyhM27udnZuwRn7rtqlgW8lBUYvBG4L7ywaEm8bydlvCh6gbyYYJC8kcqfvAGxrrxhkLy8J+XIvFWv07xia9y8ThnjvJA157yxQ+m8sUPpvAiy5ry1juG8udnZvBOTz7zEusK8Q82yvKHRoLxWRIy89F9tvCswQbwx6xG80XbLu8JKarvXMZy6SYiDOukTPTtS+ZM7CiK/OxwE4DvLu/o7apYFPM7ACzzvzg08784NPP/VDjwQ3Q88IOQQPGMAFTzGKhs8W2okPEPNMjw8N0I8d71VPONYbDw4gYI8d1KOPLUjmjz09KU8mjuwPB50uDz5Gr48s7PBPLOzwTyCnr48L3u5PCK/sDx8eKY8pRyZPDU2ijxHg3I8A4xOPJ2GKDw4gQI8hem2O7nZWTvXMZw6d71Vup2GKLtqloW7AbGuu/KEzbs9EuK741jsu+NY7LuALua7mMvXu0w+w7siv7C7tSOau4ukh7uJn3a7gC5mu/v1XbvCSmq7SYiDu5QVmLtDzbK7d73Vuw3Y/rtjABW84KIsvF1FRLza51u8NnxxvMEEg7zOwIu8QvKSvJQVmLzGKpu8X7WcvNcxnLwtoJm8YwCVvHdSjrxqloW8eJh1vLnZWby3/jm8hA4XvD0S4rsx65G7Ddj+ukmIAzrpEz07fHimO6E86DsQ3Q88jX8nPLf+OTywaEk8RahSPJjLVzyo0lg8mMtXPEWoUjzyhE08j1pHPDw3QjwbKUA8+Ro+PCswQTx+U0Y8A4xOPLnZWTzCSmo83MJ7PIukhzwx65E8xiqbPFtqpDzPm6s8qkKxPFTUszzcV7Q8u0myPGgmrTxscaU8PqeaPO/OjTz90H082udbPJbwNzwg5BA8E5PPO4mfdjvXMZw6ZNu0ukeDcrtMPsO7OIECvAhHH7yW8De80XZLvMngWrxvJ2W801FrvARnbrz0X22801FrvKE8aLxvJ2W8PRJivD0SYrxfIGS8oTxovBVub7yqrXi8SYiDvL25irzKdZO81zGcvGxxpbyJNK+8HnS4vLOzwbyfYci8A4zOvM0r07zuOdW87jnVvFWv07ybFtC8wG/KvEw+w7wve7m8eS2uvKHRoLypZ5G8Ddh+vJjLV7zgoiy8Ddj+uzpcoruLpAe7ZNs0Ovv1XTsKIr87Wo8EPGxxJTwrMEE8qNJYPMJKajyqrXg8oPaAPNELhDxqloU8apaFPGqWhTxqloU8apaFPPIZhjwUKIg8RT2LPBDdjzz8ipY8+D+ePI1/pzwzxrE86RO9PJ9hyDzNK9M86+7cPG8n5TzTUes8jeruPJ3x7zx84+08sUPpPLWO4TyHxNY8wG/KPNgMvDzPm6s8pRyZPGqWhTw9EmI8hek2PM7ACzxMPsM7PRJiO1L5kzqJn3a6p/c4uzHrkbsKIr+7PRLiuw3Y/russgm8EN0PvGMAFbylHBm81zEcvBlOILxscSW84KIsvJbwN7xdRUS8ZrZUvLFDabwe33+83seMvD6nmrwmCqm8HnS4vAbXxrzuOdW8xpXivARn7ryqrfi8UzEAvcEEA70e0QS9apYFveISBb0NygO9ZDgBvdzC+7y+//G8CLLmvCBP2LwX3se8deK1vDpcorzvzo28FW5vvF1FRLy1Ixq8PRLiu3MHlrvXMRy7UvkTus7AizoZTiA7gC5mOxDdjzt8eKY7hem2O0w+wzvyhM07mMvXO18g5DsldfA7F3MAPM7ACzy1Ixo8z5srPBspQDyYy1c8NnxxPHudhjzrg5U8W2qkPEPNsjySpb88SfPKPN4y1DzJ4No8DP3ePBwE4DwM/d48QV3aPN4y1DzRdss8o6zAPNxXtDz09KU8/IqWPGqWhTyxQ2k8n2FIPHx4Jjx7nQY8d73VOzpcojsEZ247nYYoO4Au5jrXMZw6d71VOmTbNDpbaiQ6bUxFOoAuZjqJn3Y6SYiDOoAuZjpk2zQ6SYiDOYAu5rngoqy61zEcuwRnbrudhqi7+/Xdu725CryNfye8flNGvE4ZY7wN2H68zsCLvIQOl7yh0aC8nYaovHktrry7SbK83Fe0vFTUs7y7SbK8AbGuvCYKqbwpVaG8DJKXvEU9i7zcwnu86+5cvNgMPLzGKhu8R4PyuwGxrrv79V27+/XdukmIg7jgoqw61zEcO/v1XTuLpIc7lBWYO1tqpDvgoqw7Q82yO6f3uDvpE707TD7DO7BoyTt3vdU7gC7mO+zJ/Dvexww8+D8ePEPNMjywaEk8ThljPNzCezw1Noo864OVPJHKnzydhqg8iTSvPFTUszx14rU87V61PEPNsjzwqa08fHimPOc4nTwx65E84hKFPARnbjwTk088EbgvPBDdDzw9EuI7fHimO7nZWTsEZ+46SYgDOltqJLptTMW6zsALu1tqJLsivzC7ZNs0u+CiLLsZTiC7UvkTu4ukB7tJiAO7SYgDu1L5E7vgoiy7d71Vu2qWhbt8eKa7E5PPu8u7+rtzBxa8Ir8wvOF9TLyhPGi8oPaAvGZLjbwdmZi8stihvK6NqbwRuK+8VNSzvP1ltrwObbe8/WW2vMtQs7wBsa68FQOovAhHn7xjAJW8nKuIvGiRdLx3vVW8ZNs0vGMAFbyALua7fHimu3e9VbvyhM26SYiDuNcxnDpS+RM7NKFROw3YfjsQ3Y871zGcO3x4pjsBsa47hem2OwoivzuwaMk7d73VO4Au5jvLu/o7vbkKPMYqGzzwqS08TD5DPNrnWzxokXQ8AyGHPMp1kzyAw548ro2pPDPGsTwedLg86RO9PJKlvzwbKcA8+Rq+PD+CujzcV7Q8Vx+sPMLfojwMkpc8RT2LPMu7ejzr7lw8KzBBPEtjIzyLpAc8udnZO52GqDvLu3o74KIsO4Au5jpJiIM6gC7mOUmIAzlJiAO5SYiDuVtqpLltTMW5SYgDumTbNLpJiIO6bUzFus7AC7ttTEW7i6SHuyK/sLs9EuK7zsALvK6NKbyPWke8gC5mvDiBgrypZ5G8CEefvFcfrLwObbe8o6zAvCflyLyLD8+8Va/TvIfE1rwPSNe8h8TWvFWv07yLD8+8n2HIvBspwLz9Zba8NhGqvOc4nbwQ3Y+8sP2BvKE8aLzhfUy8M8YxvLUjGrxajwS8XyDkuyswwbt8eKa7EN2Pu4mfdrt3vVW7p/c4u9cxHLsN2P66bUzFuomfdrptTMW5bUzFOVtqpDqUFRg7wkpqOxlOoDs0odE7OIECPNcxHDyW8Dc8NKFRPMJKajwXc4A8NTaKPELykjylHJk8+D+ePLLYoTxLY6M8S2OjPLLYoTz4P548LaCZPMp1kzxWRIw80QuEPHiYdTxOGWM8JJpQPPkaPjzPmys8xiobPO/ODTwoegE8JXXwOz0S4ju52dk7Va/TOzSh0TtVr9M7Va/TO5jL1zuYy9c7Va/TO9F2yzsKIr87v5SqOzHrkTv79V07EN0PO4AuZjpbaiS6EN0Puw3Yfrun97i7JXXwu0LyErzgoiy8XUVEvLnZWbzjWGy87Ml8vOIShbw1Noq8d1KOvJhgkLypZ5G8mGCQvHdSjry9uYq84hKFvOzJfLz0X2282udbvLBoSbyF6Ta8W2okvDHrEbw4gQK8oTzouxOTz7vpE7274KKsu1tqpLvXMZy7tSOau5QVmLtzB5a7cweWu1L5k7sQ3Y+7rLKJuyh6gbuALma7KzBBuxDdD7tk27S6W2qkuXe9VTrOwAs7PRJiO/g/njuwaMk7aJH0O97HDDz4Px488KktPLf+OTxdRUQ8wG9KPBOTTzwkmlA8E5NPPOF9TDx+U0Y8+Ro+PDPGMTxscSU8hA4XPIukBzwEZ+47NKHRO4Xptjv4P547rLKJO0eDcjv79V07NKFRO7BoSTvyhE07d71VO4AuZjuJn3Y7SYiDO6yyiTvvzo07EN2PO6yyiTsN2H47udlZO+CiLDuALuY6ZNs0OoAu5rl3vdW6KzBBu87Ai7uF6ba7HATgu0mIA7xjABW8S2MjvCK/MLzIBTu8TD5DvI9aR7ywaEm8n2FIvG1MRbwKIj+8deI1vM+bK7z4Px68784NvKqt+LtVr9O74KKsu0mIg7un9zi7gC7mune9VbpJiIM4bUxFOltqpDp3vdU6BGfuOg3Y/jqJn/Y6iZ/2Ovv13Tp3vdU68oTNOm1MxTrpE706bUzFOvv13ToN2P461zEcOyswQTtHg3I7UvmTO2TbtDt3vdU7iZ/2O87ACzzGKhs8ro0pPHXiNTwrMEE8wG9KPCSaUDx3vVU8mMtXPJjLVzyHxFY8NKFRPLBoSTwKIj88Q80yPFtqJDxjABU8Wo8EPKE86DuPWsc7v5SqO+/OjTsEZ247KzBBOxlOIDuLpAc7BGfuOne91TryhM06d73VOvv13TqALuY6BGfuOgRn7jp3vdU6ZNu0OomfdjpbaqQ5SYgDuukTvboZTiC7BGduu/g/nruPWse7JXXwu+/ODbwpVSG8VNQzvF1FRLxVr1O8HARgvMJKarw2fHG8iZ92vKqteLyJn3a8V4pzvPRfbbxfIGS8mMtXvLBoSby3/jm8jX8nvGMAFbwoegG82ufbu2TbtLsx65G7PRJiuyK/MLtJiAO7bUzFulL5k7qALma6bUxFumTbNLpk2zS6ZNs0ultqJLpS+RO6gC7muUmIg7kAAAAAbUzFOYmfdjryhM061zEcO7nZWTvvzo07Ir+wO3e91TvLu/o7/9UOPAhHHzzgoiw8p/c4PF1FRDzhfUw8Va9TPJjLVzy52Vk8yeBaPKjSWDxVr1M88oRNPG1MRTzIBTs8EbgvPDpcIjxzBxY8nKsIPKqt+Ds9EuI70XbLO4Xptjudhqg71zGcOxDdjzussok7apaFO0mIgzsoeoE7Ddh+O8u7ejtHg3I7PRJiO7BoSTudhig7Ddj+OlL5kzptTEU5gC5mus7AC7v79V271zGcu7BoybtokfS7EN0PvFtqJLyW8De8sGhJvJjLV7xvJ2W8FW5vvJmmd7zsyXy8Ht9/vB7ff7zsyXy8iZ92vARnbrxfIGS8h8RWvJ9hSLyW8De8fHgmvGMAFbxJiAO8gC7mu7BoybsBsa67tSOau6yyibsN2H67R4NyuwRnbrsEZ267R4Nyu4mfdrvLu3q7y7t6u8u7ervLu3q7BGduu7nZWbsrMEG71zEcu/v13bp3vVW6SYgDOdcxnDqUFRg7gC5mO5QVmDvpE7072ufbO+zJ/Dvexww8pRwZPFtqJDzwqS08ZNs0PLf+OTz5Gj48CiI/PPkaPjzIBTs8deI1PBG4LzyNfyc8CEcfPHMHFjzvzg08Wo8EPKqt+DvCSuo72ufbOzSh0TvRdss7bUzFOyswwTsKIr87CiK/OyswwTtMPsM7TD7DOyswwTvpE707Q82yO3x4pjtS+ZM7y7t6OyswQTsN2P46gC5mOltqpLl3vdW66RM9u6yyibtk27S7HATgu0mIA7xzBxa8jX8nvHXiNbw8N0K80XZLvEWoUryYy1e8udlZvKjSWLx3vVW8E5NPvI9aR7zYDDy8EbgvvClVIbwg5BC8KHoBvF8g5LuPWse7AbGuu5QVmLtqloW7R4Nyuz0SYru52Vm7udlZu/v1XbuALma7BGduu4mfdrsN2H67SYiDu0mIg7soeoG7y7t6u4AuZruwaEm7GU4gu4Au5rqALma6AAAAAImfdjoN2P46KzBBOw3YfjvXMZw7p/e4O1Wv0zvjWOw7KHoBPL25CjxS+RM8tSMaPAhHHzwpVSE8OlwiPClVITwIRx881zEcPIQOFzwx6xE8vbkKPFqPBDzLu/o7BGfuOz0S4juYy9c78oTNO21MxTsKIr87yAW7O8gFuzun97g7yAW7O6f3uDun97g7ZNu0OwGxrjt8eKY7lBWYO4ukhzuALmY7ZNs0O4mf9jqJn3Y6SYgDudcxnLqUFRi7PRJiu5QVmLvIBbu7+/Xduw3Y/rv/1Q68xiobvHx4JrwRuC+8hek2vNgMPLz5Gj68+Ro+vMgFO7x14jW8AbEuvFtqJLyUFRi8rLIJvImf9ru52dm7CiK/u1tqpLvvzo27iZ92u7nZWbttTEW7p/c4u2TbNLun9zi76RM9u/KETbu52Vm7wkpqu0eDcrsN2H67SYiDu0mIg7sN2H67BGduu3e9VbsivzC7SYgDu1tqpLqALua5gC7mOeCirDpS+RM78oRNO0mIgzv4P547ZNu0O9F2yzs9EuI7R4PyOyh6ATyLpAc8zsALPP/VDjwQ3Q88/9UOPO/ODTzOwAs8i6QHPFqPBDwXcwA8qq34OwRn7juhPOg7HATgO7nZ2TtVr9M7NKHROzSh0TsTk887Va/TO1Wv0zuYy9c7mMvXO5jL1ztVr9M78oTNO0w+wztDzbI7OlyiO87AizuALmY74KIsO3e91TpbaiQ6gC7muW1Mxbqdhii7R4Nyu7UjmrvIBbu7mMvXuyV18LtajwS8784NvIQOF7zXMRy8GU4gvDpcIrwpVSG8CEcfvKUcGbwx6xG8i6QHvKqt+LscBOC7j1rHu+CirLtS+ZO7iZ92u/KETbvgoiy7EN0Puw3Y/rqALua6+/Xduvv13bqALua6iZ/2uoukB7tS+RO7GU4gu1tqJLvgoiy7nYYou9cxHLsQ3Q+7gC7multqpLpk2zS6AAAAAG1MRTrpE706EN0POyswQTtHg3I7EN2POzpcojuF6bY7j1rHO3e91Ts9EuI7wkrqOwRn7jtHg/I7R4PyOwRn7jvCSuo7XyDkO7nZ2TsTk887bUzFO6f3uDvgoqw7GU6gO1L5kzussok7Ddh+OwRnbjs9EmI7+/VdO3e9VTt3vVU7NKFRO/KETTuwaEk7bUxFO+kTPTudhig7UvkTOwRn7jrgoqw6ZNs0OgAAAABtTEW68oTNultqJLs9EmK7EN2Pu+CirLvRdsu7oTzouyh6Abzvzg28pRwZvEtjI7zPmyu8M8YxvIXpNryn9zi8p/c4vJbwN7xDzTK84KIsvEtjI7ylHBm83scMvOzJ/Ls9EuK7bUzFu7+Uqrsx65G7R4Nyu/KETbvgoiy7EN0Pu4mf9rr79d268oTNum1MxbptTMW6bUzFuvKEzbryhM266RO9uuCirLrOwIu6bUxFukmIg7lbaqQ5zsCLOoAu5jrgoiw7gC5mOxDdjzsBsa470XbLO6E86DsoegE8784NPJQVGDw6XCI8v5QqPCK/MDx14jU8p/c4PLf+OTy3/jk8lvA3PGTbNDwRuC88v5QqPEtjIzzGKhs8QvISPL25CjwoegE8R4PyOz0S4jtVr9M7j1rHO8gFuzsiv7A7nYaoOxlOoDuUFZg7EN2PO2qWhTvLu3o7PRJiO21MRTtbaiQ7Ddj+OltqpDpJiAM6bUzFueCirLpS+RO7udlZuxDdj7siv7C7NKHRuyV18Lucqwi8hA4XvFtqJLwivzC8yAU7vF1FRLzRdku8JJpQvGa2VLx3vVW8ZrZUvDShUbzRdku8TD5DvKf3OLzwqS28KVUhvGMAFbyLpAe8iZ/2uz0S4rvRdsu7yAW7u7+Uqrv4P567cweWu+/OjbuLpIe7apaFu0mIg7soeoG7Ddh+u8u7ertHg3K7gC5muzShUbtk2zS7EN0Pu/KEzbp3vVW6AAAAAIAuZjoEZ+46ZNs0O0eDcjuUFZg7p/e4O3e91TtHg/I7e50GPELyEjznOB08jX8nPAGxLjxk2zQ8t/45POkTPTz5Gj48+Ro+POkTPTzIBTs8lvA3PEPNMjzwqS08jX8nPClVITzXMRw8cwcWPCDkEDzOwAs8e50GPDiBAjzsyfw7aJH0OwRn7juALuY72ufbOzSh0TttTMU7hem2O3x4pjsx65E7iZ92O21MRTsQ3Q87W2qkOltqpDlk2zS6+/XduiK/MLtHg3K7lBWYu4Xptrs0odG741jsuziBArzexwy8cwcWvPg/HrxbaiS8ro0pvM+bK7zgoiy8v5QqvI1/J7w6XCK8tSMavDHrEbycqwi8Ddj+u+NY7Lu52dm7sGjJu8gFu7vgoqy7GU6gu7Ujmrsx65G7EN2Pu+/OjbvOwIu7786Nu+/OjbsQ3Y+7EN2Pu+/OjbvOwIu7apaFu4mfdrv79V27KzBBuxlOILuJn/a6W2qkultqJLpJiIM4bUxFOmTbtDqLpAc7Ir8wO/v1XTsoeoE7UvmTOzpcojsiv7A7yAW7O21MxTvyhM07NKHRO1Wv0ztVr9M7NKHRO/KEzTuPWsc7CiK/O6f3uDsBsa47fHimO/g/njuUFZg7MeuRO+/OjTussok7i6SHO2qWhTtJiIM7KHqBOyh6gTvLu3o7R4NyO4AuZjt3vVU7KzBBO+CiLDvOwAs78oTNOomfdjptTEU5SYgDuuCirLqLpAe7p/c4u8JKarvvzo27Olyiu6f3uLvRdsu7+/Xdu+NY7LvLu/q7OIECvHudBrycqwi8nKsIvHudBrxJiAO8y7v6u+NY7Lva59u7j1rHu0PNsrv4P567rLKJu4AuZrvpEz27lBUYuwRn7rpk27S6SYiDumTbNLpJiAO6W2qkuW1MRblJiAO5SYiDuEmIg7gAAAAASYgDOUmIgzmALuY5bUxFOs7AizrpE706iZ/2OtcxHDvpEz07PRJiOyh6gTtS+ZM7fHimO6f3uDuwaMk7udnZO6E86DtokfQ77Mn8OziBAjxajwQ8apYFPGqWBTxajwQ8KHoBPMu7+jsldfA7XyDkO3e91TtMPsM7Q82yOxlOoDvvzo07y7t6O7nZWTvpEz07GU4gO4ukBzuALuY66RO9OlL5kzqALmY6W2okOm1MxTlJiAM5bUxFuVL5E7qJn3a6ZNu0uomf9roZTiC7sGhJu0eDcrsQ3Y+7fHimu+kTvbs0odG7XyDku4mf9rtJiAO83scMvFL5E7y1Ixq8CEcfvFtqJLyNfye8ro0pvK6NKbydhii8bHElvClVIbzGKhu8QvISvL25CrwoegG8BGfuu5jL17tMPsO74KKsu5QVmLtJiIO7+/Vdu2TbNLtS+RO7BGfuuukTvbpS+ZO6d71VulL5E7pJiIO5SYiDOFtqpDlbaiQ6SYiDOukTvTqJn/Y6lBUYO6f3ODv79V07KHqBO3MHljudhqg76RO9OzSh0TuALuY7y7v6O3udBjwQ3Q88hA4XPPg/HjxbaiQ8ro0pPOCiLDwBsS48EbgvPAGxLjzgoiw8ro0pPFtqJDz4Px48hA4XPP/VDjxqlgU8qq34O4Au5jtVr9M7TD7DO0PNsjs6XKI7UvmTO2qWhTtHg3I7d71VO+kTPTsZTiA7i6QHO3e91TpS+ZM6W2okOkmIgzhS+RO61zGcug3Y/roivzC7PRJiu6yyibtbaqS7yAW7uzSh0buALua7y7v6u2qWBbzvzg28YwAVvMYqG7wZTiC8W2okvI1/J7ydhii8nYYovI1/J7xbaiS8GU4gvMYqG7xjABW8/9UOvHudBrwN2P67BGfuuxwE4LsTk8+7KzDBuyK/sLs6XKK7cweWu6yyibsN2H67BGduu7nZWbuwaEm7ZNs0u1tqJLvOwAu7BGfuuukTvbpJiIO6SYgDugAAAABS+RM61zGcOoAu5jrXMRw7bUxFOwRnbjvOwIs7OlyiO2TbtDuwaMk72ufbO+NY7DvLu/o7Wo8EPKyyCTzvzg08IOQQPELyEjxS+RM8UvkTPDHrETwQ3Q88zsALPHudBjwXcwA8R4PyO18g5DuYy9c7j1rHO8gFuzvgoqw7GU6gO1L5kzuLpIc7Ddh+O4AuZjs0oVE76RM9O52GKDtS+RM7iZ/2OukTvTpJiIM6SYgDOkmIg7hbaiS6W2qkug3Y/rqdhii7d71Vuw3Yfrsx65G7W2qku2TbtLtMPsO7NKHRu/v13buhPOi7JXXwu4mf9rvsyfy7Ddj+uxdzALwN2P677Mn8u4mf9rsldfC7oTzou/v13btVr9O7sGjJu+kTvbsiv7C7W2qku5QVmLvvzo27KHqBuwRnbru52Vm7bUxFu2TbNLtbaiS7lBUYu4ukB7uJn/a6d73VuuCirLpJiIO6ZNs0um1MxbkAAAAAgC7mOYAuZjpk27Q6iZ/2OtcxHDvpEz07+/VdOyh6gTsx65E7W2qkO2TbtDttTMU7Va/TOz0S4jsEZ+47qq34OxdzADxJiAM8apYFPHudBjx7nQY8apYFPDiBAjzsyfw7R4PyO4Au5juYy9c7sGjJO6f3uDu/lKo7tSOaO87AizvLu3o7PRJiO21MRTvgoiw7UvkTO4mf9jptTMU6UvmTOm1MRTptTMU5SYiDuEmIA7pJiIO68oTNus7AC7sivzC7udlZuw3Yfrsx65G7Olyiu2TbtLtMPsO7E5PPu9rn27uhPOi7JXXwu8u7+rsXcwC8OIECvFqPBLxqlgW8Wo8EvEmIA7woegG87Mn8u4mf9rsEZ+67XyDku7nZ2bsTk8+7TD7Du4Xptru/lKq7+D+eu1L5k7uLpIe7iZ92uz0SYrvyhE27p/c4u52GKLuUFRi7SYgDu4Au5rrpE726zsCLumTbNLpbaqS5SYgDOVL5EzrOwIs68oTNOoukBzudhig78oRNOwRnbjuLpIc7tSOaO7+UqjvIBbs70XbLO9rn2zvCSuo7iZ/2Oyh6ATxqlgU8vbkKPO/ODTwQ3Q88IOQQPCDkEDwQ3Q88784NPL25CjxqlgU8F3MAPGiR9DuhPOg7udnZO/KEzTsKIr87Q82yO1tqpDuUFZg7zsCLOw3YfjuALmY7NKFRO6f3ODsZTiA7i6QHO/v13TpbaqQ6d71VOltqpDlJiIO5d71VuukTvbpJiAO74KIsuzShUbuJn3a7786Nu/g/nrsBsa676RO9u7BoybtVr9O7HATgu6E86LsldfC7aJH0u6qt+LvLu/q7y7v6u6qt+LuJn/a7R4Pyu+NY7LuALua7HATgu5jL17sTk8+7j1rHuyswwbun97i7Ir+wu7+Uqrs6XKK71zGcu3MHlrsQ3Y+7rLKJu0mIg7uJn3a7gC5mu3e9VbvpEz27nYYou87AC7v79d261zGcumTbNLptTEW5bUzFOYmfdjptTMU6i6QHO+CiLDs0oVE7iZ92O+/OjTsZTqA7Ir+wOwoivzvyhM072ufbO4Au5jsldfA7y7v6OxdzADw4gQI8SYgDPFqPBDxJiAM8KHoBPA3Y/juJn/Y7BGfuO18g5Du52dk7E5PPO21MxTun97g7AbGuO1tqpDuUFZg7786NO0mIgztHg3I7+/VdO7BoSTsivzA7lBUYO0mIAzvyhM06UvmTOmTbNDptTEU5SYiDuW1MRbpbaqS6gC7muhDdD7udhii7bUxFu/v1XbtHg3K7apaFu+/OjbuUFZi7GU6gu3x4prvgoqy7Ir+wu0PNsrtk27S7hem2u4Xptrtk27S7ZNu0u0PNsrsiv7C74KKsu7+Uqrt8eKa7Olyiu/g/nrvXMZy7lBWYu3MHlrsx65G7EN2Pu87Ai7ussom7apaFuw3YfruJn3a7wkpqu7nZWbttTEW7Ir8wu9cxHLtJiAO7d73VultqpLp3vVW6bUzFuUmIgzhJiAM6iZ92OmTbtDoEZ+46UvkTOyK/MDvyhE07wkpqOyh6gTvvzo07tSOaO3x4pjsBsa47p/e4OwoivzttTMU7j1rHO7BoyTuwaMk7j1rHO0w+wzvpE707hem2OyK/sDudhqg7GU6gO5QVmDvvzo07apaFO8u7ejuALmY7NKFROyswQTvgoiw7lBUYO4ukBzuALuY6ZNu0OkmIgzpbaiQ6SYiDOW1MRblS+RO6iZ92uuCirLp3vdW6SYgDu1L5E7udhii7p/c4u7BoSbu52Vm7gC5muwRnbrvLu3q7Ddh+u0mIg7tJiIO7apaFu2qWhbtqloW7SYiDuyh6gbsN2H67Ddh+u8u7eruJn3a7R4NyuwRnbrvCSmq7gC5muz0SYrs9EmK7+/Vdu/v1Xbv79V27udlZu3e9Vbs0oVG78oRNuyswQbun9zi74KIsu9cxHLvOwAu7BGfuum1MxbrXMZy6d71VukmIA7pJiAO5SYiDOVtqJDqJn3Y64KKsOne91TpJiAM7lBUYO+CiLDttTEU7d71VO8JKajvLu3o7i6SHO+/OjTtS+ZM7tSOaO/g/njsZTqA7OlyiOzpcojs6XKI7+D+eO9cxnDuUFZg7MeuRO+/OjTuLpIc7KHqBO0eDcjs9EmI7d71VO21MRTtk2zQ7W2okO1L5EzsN2P46+/XdOmTbtDrOwIs6ZNs0Om1MxTkAAAAAbUzFuW1MRbrOwIu66RO9uvv13bpJiAO7UvkTu1tqJLtk2zS7KzBBu/KETbt3vVW7+/Vdu4AuZrvCSmq7BGduu0eDcrtHg3K7R4NyuwRnbrsEZ267wkpqu4AuZrs9EmK7PRJiu7nZWbt3vVW7d71VuzShUbvyhE278oRNu7BoSbuwaEm7bUxFu21MRbsrMEG76RM9u6f3OLtk2zS7nYYouxlOILtS+RO7i6QHuwRn7rryhM264KKsus7Ai7ptTEW6SYgDum1MRblJiAM5bUzFOWTbNDpJiIM6W2qkOvKEzToEZ+46zsALO9cxHDvgoiw76RM9O/KETTu52Vk7wkpqO4mfdjsN2H47SYiDO2qWhTuLpIc7rLKJO4ukhzuLpIc7apaFOyh6gTsN2H47R4NyO8JKajs9EmI7d71VO7BoSTvpEz07Ir8wO1tqJDtS+RM7i6QHOwRn7jp3vdU64KKsOs7AizptTEU6gC7mOUmIAzlJiAO5gC7muW1MRbpJiIO6W2qkum1Mxbr79d26Ddj+us7AC7uUFRi7W2oku+CiLLun9zi76RM9u21MRbuwaEm78oRNuzShUbt3vVW7d71Vu3e9Vbt3vVW7d71VuzShUbs0oVG78oRNu7BoSbttTEW7KzBBu+kTPbun9zi7ZNs0uyK/MLvgoiy7nYYouxlOILvXMRy7UvkTu87AC7sN2P66gC7muvKEzbpk27S6UvmTuomfdrpk2zS6gC7muW1MRblJiIM4W2qkOVL5Ezp3vVU6zsCLOuCirDptTMU6gC7mOkmIAzsQ3Q87GU4gOyK/MDvpEz07sGhJO3e9VTs9EmI7BGduO4mfdjsN2H47KHqBO0mIgztqloU7apaFO0mIgztJiIM7KHqBO8u7ejuJn3Y7BGduO4AuZjv79V07NKFRO7BoSTvpEz07Ir8wO52GKDvXMRw7zsALOw3Y/jr79d066RO9OtcxnDqJn3Y6ZNs0OoAu5jltTEU5SYiDuEmIg7lJiAO6ZNs0uomfdrpS+ZO64KKsum1Mxbr79d26iZ/2ukmIA7sQ3Q+7lBUYuxlOILudhii7Ir8wu6f3OLvpEz27bUxFu7BoSbuwaEm78oRNu/KETbvyhE278oRNu/KETbvyhE27sGhJu7BoSbttTEW7bUxFuyswQbvpEz27p/c4u2TbNLvgoiy7W2oku9cxHLtS+RO7i6QHuw3Y/rqALua68oTNuuCirLpS+ZO6iZ92umTbNLpJiAO6SYiDuUmIg7hJiAM5bUzFOVL5EzptTEU6SYiDOtcxnDrpE706d73VOgRn7jqLpAc7UvkTO9cxHDudhig7Ir8wO6f3ODvpEz07bUxFO21MRTuwaEk7sGhJO7BoSTuwaEk7bUxFOyswQTvpEz07p/c4O2TbNDvgoiw7nYYoOxlOIDvXMRw7UvkTO87ACzsN2P46BGfuOne91TrpE7064KKsOlL5kzqJn3Y6bUxFOlL5EzqALuY5SYiDOUmIAzkAAAAAbUxFuVtqpLmALua5UvkTumTbNLp3vVW6iZ92us7Ai7pS+ZO6W2qkumTbtLrpE7268oTNune91br79d26BGfuuomf9rqJn/a6Ddj+ukmIA7tJiAO7i6QHu4ukB7uLpAe7i6QHu4ukB7uLpAe7i6QHu4ukB7tJiAO7SYgDuw3Y/rqJn/a6BGfuuoAu5rr79d268oTNuukTvbrgoqy61zGcus7Ai7qJn3a6d71VultqJLpJiAO6bUzFuUmIg7lJiAO5AAAAAEmIAzlbaqQ5gC7mOVtqJDptTEU6gC5mOs7AizrXMZw64KKsOukTvTptTMU6d73VOvv13TqALuY6BGfuOgRn7jqJn/Y6iZ/2Oomf9jqJn/Y6BGfuOoAu5jqALuY6+/XdOne91TryhM06bUzFOukTvTrgoqw6W2qkOlL5kzpJiIM6gC5mOm1MRTpbaiQ6SYgDOm1MxTlJiIM5SYgDOUmIgzhJiIO4bUxFuUmIg7lbaqS5bUzFuUmIA7pJiAO6UvkTultqJLpk2zS6bUxFune9VbqALma6gC5muomfdrpJiIO6SYiDus7Ai7rOwIu6UvmTulL5k7rXMZy61zGcutcxnLrXMZy61zGcutcxnLrXMZy61zGcutcxnLrXMZy6UvmTulL5k7rOwIu6zsCLukmIg7qJn3a6iZ92uoAuZrp3vVW6bUxFumTbNLpS+RO6SYgDuoAu5rltTMW5W2qkuUmIg7ltTEW5SYgDuUmIg7gAAAAASYiDOEmIAzlJiIM5W2qkOW1MxTlJiAM6UvkTOltqJDpk2zQ6bUxFOne9VTqALmY6iZ92OkmIgzrOwIs6zsCLOs7AizrOwIs6zsCLOs7AizrOwIs6SYiDOkmIgzqJn3Y6iZ92OoAuZjp3vVU6bUxFOmTbNDpbaiQ6UvkTOkmIAzptTMU5W2qkOW1MRTlJiAM5AAAAAEmIg7hJiAO5bUxFuUmIg7lbaqS5bUzFuW1MxbmALua5SYgDukmIA7pS+RO6UvkTultqJLpbaiS6ZNs0umTbNLptTEW6d71Vune9VbqALma6gC5muoAuZrqJn3a6iZ92uomfdrqJn3a6iZ92uomfdrqJn3a6iZ92uomfdrqALma6gC5mune9VbptTEW6bUxFumTbNLpbaiS6UvkTukmIA7pJiAO6gC7muVtqpLlJiIO5bUxFuUmIA7lJiAO5SYiDuAAAAABJiIM4SYgDOUmIAzltTEU5SYiDOUmIgzlbaqQ5bUzFOYAu5jmALuY5SYgDOlL5EzpS+RM6W2okOmTbNDpk2zQ6ZNs0Om1MRTptTEU6bUxFOne9VTp3vVU6d71VOne9VTptTEU6bUxFOm1MRTptTEU6ZNs0OmTbNDpk2zQ6W2okOltqJDpS+RM6SYgDOoAu5jmALuY5bUzFOVtqpDlJiIM5bUxFOUmIAzlJiIM4AAAAAEmIg7hJiIO4SYgDuUmIA7ltTEW5bUxFuUmIg7lJiIO5SYiDuVtqpLlbaqS5W2qkuW1MxbltTMW5bUzFuYAu5rmALua5gC7muUmIA7pJiAO6SYgDukmIA7pS+RO6UvkTulL5E7pS+RO6UvkTulL5E7pS+RO6UvkTulL5E7pS+RO6SYgDukmIA7pJiAO6gC7muYAu5rltTMW5bUzFuVtqpLlbaqS5SYiDuUmIg7ltTEW5SYgDuUmIA7lJiIO4SYiDuAAAAAAAAAAAAAAAAEmIgzhJiIM4SYgDOUmIAzlJiAM5bUxFOW1MRTltTEU5SYiDOUmIgzlJiIM5SYiDOVtqpDlbaqQ5W2qkOVtqpDlbaqQ5W2qkOVtqpDlbaqQ5W2qkOVtqpDlbaqQ5SYiDOUmIgzlJiIM5SYiDOUmIgzlJiIM5bUxFOW1MRTltTEU5bUxFOUmIAzlJiAM5SYgDOUmIgzhJiIM4SYiDOAAAAAAAAAAAAAAAAAAAAAAAAAAAAAAAAEmIg7hJiIO4SYiDuEmIg7hJiIO4SYiDuEmIg7hJiIO4SYiDuEmIg7hJiIO4SYiDuEmIg7hJiIO4SYiDuEmIg7hJiIO4SYiDuEmIg7hJiIO4SYiDuEmIg7hJiIO4SYiDuEmIg7hJiIO4SYiDuEmIg7hJiIO4\" type=\"audio/x-wav\" />\n",
              "                    Your browser does not support the audio element.\n",
              "                </audio>\n",
              "              "
            ]
          },
          "metadata": {},
          "execution_count": 20
        }
      ]
    }
  ],
  "metadata": {
    "accelerator": "GPU",
    "colab": {
      "provenance": [],
      "include_colab_link": true
    },
    "kernelspec": {
      "display_name": "Python 3",
      "language": "python",
      "name": "python3"
    },
    "language_info": {
      "codemirror_mode": {
        "name": "ipython",
        "version": 3
      },
      "file_extension": ".py",
      "mimetype": "text/x-python",
      "name": "python",
      "nbconvert_exporter": "python",
      "pygments_lexer": "ipython3",
      "version": "3.7.7"
    }
  },
  "nbformat": 4,
  "nbformat_minor": 0
}