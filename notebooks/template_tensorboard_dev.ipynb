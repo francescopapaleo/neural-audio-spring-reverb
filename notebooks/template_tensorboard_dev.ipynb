{
 "cells": [
  {
   "attachments": {},
   "cell_type": "markdown",
   "metadata": {},
   "source": [
    "# Tensorboard dev / Custom Visualization Template\n",
    "\n",
    "This is a template to create custom visualization in Tensorboard dev (https://tensorboard.dev/)"
   ]
  },
  {
   "attachments": {},
   "cell_type": "markdown",
   "metadata": {},
   "source": [
    "## Setup"
   ]
  },
  {
   "cell_type": "code",
   "execution_count": 1,
   "metadata": {},
   "outputs": [
    {
     "ename": "ModuleNotFoundError",
     "evalue": "No module named 'seaborn'",
     "output_type": "error",
     "traceback": [
      "\u001b[0;31m---------------------------------------------------------------------------\u001b[0m",
      "\u001b[0;31mModuleNotFoundError\u001b[0m                       Traceback (most recent call last)",
      "\u001b[1;32m/Users/francescopapaleo/src-github/spring-reverb/notebooks/template_tensorboard_dev.ipynb Cell 3\u001b[0m in \u001b[0;36m5\n\u001b[1;32m      <a href='vscode-notebook-cell:/Users/francescopapaleo/src-github/spring-reverb/notebooks/template_tensorboard_dev.ipynb#W2sZmlsZQ%3D%3D?line=2'>3</a>\u001b[0m \u001b[39mimport\u001b[39;00m \u001b[39mpandas\u001b[39;00m \u001b[39mas\u001b[39;00m \u001b[39mpd\u001b[39;00m\n\u001b[1;32m      <a href='vscode-notebook-cell:/Users/francescopapaleo/src-github/spring-reverb/notebooks/template_tensorboard_dev.ipynb#W2sZmlsZQ%3D%3D?line=3'>4</a>\u001b[0m \u001b[39mfrom\u001b[39;00m \u001b[39mmatplotlib\u001b[39;00m \u001b[39mimport\u001b[39;00m pyplot \u001b[39mas\u001b[39;00m plt\n\u001b[0;32m----> <a href='vscode-notebook-cell:/Users/francescopapaleo/src-github/spring-reverb/notebooks/template_tensorboard_dev.ipynb#W2sZmlsZQ%3D%3D?line=4'>5</a>\u001b[0m \u001b[39mimport\u001b[39;00m \u001b[39mseaborn\u001b[39;00m \u001b[39mas\u001b[39;00m \u001b[39msns\u001b[39;00m\n\u001b[1;32m      <a href='vscode-notebook-cell:/Users/francescopapaleo/src-github/spring-reverb/notebooks/template_tensorboard_dev.ipynb#W2sZmlsZQ%3D%3D?line=5'>6</a>\u001b[0m \u001b[39mimport\u001b[39;00m \u001b[39mtensorboard\u001b[39;00m \u001b[39mas\u001b[39;00m \u001b[39mtb\u001b[39;00m\n",
      "\u001b[0;31mModuleNotFoundError\u001b[0m: No module named 'seaborn'"
     ]
    }
   ],
   "source": [
    "# Basic imports\n",
    "from packaging import version\n",
    "import pandas as pd\n",
    "from matplotlib import pyplot as plt\n",
    "import seaborn as sns\n",
    "import tensorboard as tb"
   ]
  },
  {
   "cell_type": "code",
   "execution_count": null,
   "metadata": {},
   "outputs": [],
   "source": [
    "# TensorBoard version\n",
    "major_ver, minor_ver, _ = version.parse(tb.__version__).release\n",
    "assert major_ver >= 2 and minor_ver >= 3, \\\n",
    "    \"This notebook requires TensorBoard 2.3 or later.\"\n",
    "print(\"TensorBoard version: \", tb.__version__)"
   ]
  },
  {
   "cell_type": "code",
   "execution_count": null,
   "metadata": {},
   "outputs": [],
   "source": [
    "# Logging into TensorBoard.dev and retrieving data\n",
    "EXPERIMENT_ID = \"Mu4U3mPeQxG7Zd9uxw5nsg\"\n",
    "EXPERIMENT_ID = tb.data.experimental.ExperimentFromDev(EXPERIMENT_ID)\n",
    "df = EXPERIMENT_ID.get_scalars()"
   ]
  },
  {
   "cell_type": "code",
   "execution_count": null,
   "metadata": {},
   "outputs": [],
   "source": [
    "# Edit metadata\n",
    "!tensorboard dev update-metadata --experiment_id Mu4U3mPeQxG7Zd9uxw5nsg --name \"Training and Test\" --description \"Different Models with different HParams and Metrics\""
   ]
  },
  {
   "attachments": {},
   "cell_type": "markdown",
   "metadata": {},
   "source": [
    "## Runs and Tags"
   ]
  },
  {
   "cell_type": "code",
   "execution_count": null,
   "metadata": {},
   "outputs": [],
   "source": [
    "print('Runs:', df[\"run\"].unique()) "
   ]
  },
  {
   "cell_type": "code",
   "execution_count": null,
   "metadata": {},
   "outputs": [],
   "source": [
    "# Counting and sorting unique values to know how many scalars have been recorded\n",
    "counts = df['run'].value_counts()\n",
    "sorted_unique_values = counts.index.tolist()\n",
    "print(sorted_unique_values)\n",
    "print(counts)"
   ]
  },
  {
   "cell_type": "code",
   "execution_count": null,
   "metadata": {},
   "outputs": [],
   "source": [
    "print(df[\"tag\"].unique())"
   ]
  },
  {
   "attachments": {},
   "cell_type": "markdown",
   "metadata": {},
   "source": [
    "## Plotting the results"
   ]
  },
  {
   "cell_type": "code",
   "execution_count": null,
   "metadata": {},
   "outputs": [],
   "source": [
    "# Define the tags of interest\n",
    "tags_of_interest = [\"training/stft\", \"validation/stft\"]\n",
    "\n",
    "# Select runs of interest\n",
    "runs_of_interest = sorted_unique_values[:10] # Adjust this to select the runs you want\n",
    "\n",
    "# Loop over the tags of interest\n",
    "for tag in tags_of_interest:\n",
    "    # Prepare a DataFrame for the current tag\n",
    "    df_tag = df[(df[\"tag\"] == tag) & df[\"run\"].isin(runs_of_interest)]\n",
    "    \n",
    "    # Reset index for seaborn\n",
    "    df_reset = df_tag.reset_index()\n",
    "    \n",
    "    # Initialize figure\n",
    "    plt.figure(figsize=(16, 6))\n",
    "\n",
    "    # Plot training and validation loss\n",
    "    sns.lineplot(data=df_reset, x=\"step\", y=\"value\", hue='run').set_title(f\"{tag} for selected runs\")\n",
    "    plt.grid(True)\n",
    "    plt.xlabel(\"Steps\")\n",
    "    plt.ylabel(\"Value\")\n",
    "    plt.xscale('symlog')\n",
    "    plt.yscale('symlog')\n",
    "    plt.show()"
   ]
  },
  {
   "cell_type": "code",
   "execution_count": null,
   "metadata": {},
   "outputs": [],
   "source": [
    "# Training loss\n",
    "\n",
    "plt.figure(figsize=(16, 6))\n",
    "plt.subplot(1, 2, 1)\n",
    "sns.lineplot(data=df.reset_index(), x=\"step\", y=\"value\",\n",
    "             hue='run').set_title(\"Training loss\")\n",
    "plt.ylim(0, 100)\n",
    "plt.xlim(0, 2000)\n",
    "plt.grid(True)\n",
    "plt.xlabel(\"Steps\")\n",
    "plt.ylabel(\"Value\")\n",
    "plt.xscale('symlog')\n",
    "plt.yscale('symlog')\n",
    "\n",
    "plt.subplot(1, 2, 2)\n",
    "sns.lineplot(data=df.reset_index(), x='step', y='value', hue='run').set_title(\"Validation loss\")\n",
    "plt.ylim(0, 100)\n",
    "plt.xlim(0, 2000)\n",
    "plt.grid(True)\n",
    "plt.xlabel(\"Steps\")\n",
    "plt.ylabel(\"Value\")\n",
    "plt.xscale('symlog')\n",
    "plt.yscale('symlog')\n",
    "# x_ticks = [10, 100, 1000, 10000]  # Set x ticks\n",
    "# x_labels = [str(val) for val in x_ticks]  # Generate x labels\n",
    "# x_ticks = np.arange(0, 5000, 1)\n",
    "# y_ticks = np.arange(0, 800, 1)\n",
    "# plt.xticks(x_ticks)\n",
    "# plt.yticks(y_ticks)"
   ]
  },
  {
   "cell_type": "code",
   "execution_count": null,
   "metadata": {},
   "outputs": [],
   "source": [
    "#  Training loss by batches\n",
    "\n",
    "plt.figure(figsize=(16, 6))\n",
    "plt.subplot(1, 1, 1)\n",
    "sns.lineplot(data=df.reset_index(), x=\"step\", y=\"value\",\n",
    "             hue='run').set_title(\"Batch loss (batch size = 4)\")\n",
    "\n",
    "plt.grid(True)\n",
    "plt.xlabel(\"Steps\")\n",
    "plt.ylabel(\"Value\")\n",
    "plt.xscale('symlog')\n",
    "plt.yscale('linear')\n",
    "\n",
    "plt.xlim(0, 1500)\n",
    "plt.show()"
   ]
  },
  {
   "attachments": {},
   "cell_type": "markdown",
   "metadata": {},
   "source": [
    "## Save to csv"
   ]
  },
  {
   "cell_type": "code",
   "execution_count": null,
   "metadata": {},
   "outputs": [],
   "source": [
    "df.to_csv('template_save_to.csv')"
   ]
  }
 ],
 "metadata": {
  "kernelspec": {
   "display_name": "Python 3",
   "language": "python",
   "name": "python3"
  },
  "language_info": {
   "codemirror_mode": {
    "name": "ipython",
    "version": 3
   },
   "file_extension": ".py",
   "mimetype": "text/x-python",
   "name": "python",
   "nbconvert_exporter": "python",
   "pygments_lexer": "ipython3",
   "version": "3.10.12"
  },
  "orig_nbformat": 4
 },
 "nbformat": 4,
 "nbformat_minor": 2
}
