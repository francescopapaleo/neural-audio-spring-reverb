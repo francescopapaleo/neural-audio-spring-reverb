{
  "cells": [
    {
      "attachments": {},
      "cell_type": "markdown",
      "metadata": {
        "id": "R8F3RwyzNY0Z"
      },
      "source": [
        "# hdf5\n",
        "\n",
        "Original dataset in h5 format:\n",
        "https://zenodo.org/record/3746119#.ZCPs7exBwq-"
      ]
    },
    {
      "attachments": {},
      "cell_type": "markdown",
      "metadata": {
        "id": "WD2zLjdiILd-"
      },
      "source": [
        "### Setup"
      ]
    },
    {
      "cell_type": "code",
      "execution_count": 2,
      "metadata": {
        "id": "Vqu3t1D8_ePE"
      },
      "outputs": [],
      "source": [
        "import h5py\n",
        "import os\n",
        "import soundfile as sf\n",
        "import numpy as np\n",
        "from pathlib import Path"
      ]
    },
    {
      "attachments": {},
      "cell_type": "markdown",
      "metadata": {
        "id": "OxO84nYc6IL-"
      },
      "source": [
        "## h5py data"
      ]
    },
    {
      "cell_type": "code",
      "execution_count": 3,
      "metadata": {
        "colab": {
          "base_uri": "https://localhost:8080/"
        },
        "id": "-uMwmEk9jQsV",
        "outputId": "8e7aaad0-c62b-49b2-b00b-ee332a2fd6a0"
      },
      "outputs": [],
      "source": [
        "H5_DATA = '/homedtic/fpapaleo/smc-spring-reverb/dataset'"
      ]
    },
    {
      "cell_type": "code",
      "execution_count": 4,
      "metadata": {
        "colab": {
          "base_uri": "https://localhost:8080/"
        },
        "id": "TbUiqcJA6c4o",
        "outputId": "e00cac3c-fb11-4f57-eb95-3a0a8eaae478"
      },
      "outputs": [
        {
          "name": "stdout",
          "output_type": "stream",
          "text": [
            "<KeysViewHDF5 []>\n"
          ]
        }
      ],
      "source": [
        "with h5py.File(os.path.join(H5_DATA,'dry_train.h5'), 'r') as f:\n",
        "    print(f['Xtrain'].attrs.keys())"
      ]
    },
    {
      "cell_type": "code",
      "execution_count": 5,
      "metadata": {},
      "outputs": [
        {
          "name": "stdout",
          "output_type": "stream",
          "text": [
            "[]\n"
          ]
        }
      ],
      "source": [
        "with h5py.File(os.path.join(H5_DATA, 'dry_train.h5'), 'r') as f:\n",
        "    keys = list(f['Xtrain'].attrs.keys())\n",
        "    print(keys)"
      ]
    },
    {
      "cell_type": "code",
      "execution_count": 8,
      "metadata": {},
      "outputs": [
        {
          "name": "stdout",
          "output_type": "stream",
          "text": [
            "[]\n"
          ]
        }
      ],
      "source": [
        "with h5py.File(os.path.join(H5_DATA, 'dry_train.h5'), 'r') as f:\n",
        "    values = list(f['Xtrain'].attrs.values())\n",
        "    print(values)"
      ]
    }
  ],
  "metadata": {
    "colab": {
      "include_colab_link": true,
      "provenance": []
    },
    "gpuClass": "standard",
    "kernelspec": {
      "display_name": "Python 3",
      "name": "python3"
    },
    "language_info": {
      "codemirror_mode": {
        "name": "ipython",
        "version": 3
      },
      "file_extension": ".py",
      "mimetype": "text/x-python",
      "name": "python",
      "nbconvert_exporter": "python",
      "pygments_lexer": "ipython3",
      "version": "3.9.16"
    }
  },
  "nbformat": 4,
  "nbformat_minor": 0
}
